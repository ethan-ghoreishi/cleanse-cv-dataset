{
 "cells": [
  {
   "cell_type": "code",
   "execution_count": 440,
   "metadata": {
    "collapsed": true
   },
   "outputs": [],
   "source": [
    "import psycopg2\n",
    "import pandas as pd\n",
    "\n",
    "import re\n",
    "\n",
    "import numpy as np\n",
    "import nltk\n",
    "from nltk.corpus import stopwords\n",
    "\n",
    "from textblob import blob, Blobber, TextBlob, Sentence, Word, WordList, tokenizers, sentiments, taggers, parsers\n",
    "import keras"
   ]
  },
  {
   "cell_type": "code",
   "execution_count": 46,
   "metadata": {
    "collapsed": true
   },
   "outputs": [],
   "source": [
    "con = psycopg2.connect(dbname=\"skillsdb\",host=\"dw-instance.cbrlhmbtfrqg.eu-west-2.redshift.amazonaws.com\"\n",
    "                ,port=\"5439\",user=\"masteruser\", password=\"Ehgh1363\")\n",
    "curs = con.cursor()"
   ]
  },
  {
   "cell_type": "code",
   "execution_count": 166,
   "metadata": {
    "collapsed": true
   },
   "outputs": [],
   "source": [
    "# import all data from redshift\n",
    "\n",
    "data = pd.read_sql_query('''select distinct cv.user_id, cv_section_attribute.name,\n",
    "cv.value_char, cv.value_timestamp from cv_section_attribute \n",
    "left join cv on cv_section_attribute.id=cv.cv_section_attribute_id''',con)"
   ]
  },
  {
   "cell_type": "code",
   "execution_count": 167,
   "metadata": {
    "collapsed": true
   },
   "outputs": [],
   "source": [
    "# # include specific CV attributes\n",
    "# data = data[data['name'].isin(['locale','name','summary','headline',\n",
    "#                                      'degree','school','admit_year','grad_year',\n",
    "#                                      'company',  'title',  'work_location',  \n",
    "#                                      'start_date','end_date', 'description',\n",
    "#                                      'award',\n",
    "#                                      'publication', \n",
    "#                                      'additional_info', \n",
    "#                                      'skill'])]"
   ]
  },
  {
   "cell_type": "code",
   "execution_count": 168,
   "metadata": {
    "collapsed": true
   },
   "outputs": [],
   "source": [
    "# include specific CV attributes\n",
    "data = data[data['name'].isin(['locale','name','summary','headline',\n",
    "                                     'degree','school',\n",
    "                                     'company',  'title',  'work_location',  \n",
    "                                     'description',\n",
    "                                     'award',\n",
    "                                     'publication', \n",
    "                                     'additional_info', \n",
    "                                     'skill'])]"
   ]
  },
  {
   "cell_type": "code",
   "execution_count": 169,
   "metadata": {
    "collapsed": false
   },
   "outputs": [
    {
     "data": {
      "text/html": [
       "<div>\n",
       "<style>\n",
       "    .dataframe thead tr:only-child th {\n",
       "        text-align: right;\n",
       "    }\n",
       "\n",
       "    .dataframe thead th {\n",
       "        text-align: left;\n",
       "    }\n",
       "\n",
       "    .dataframe tbody tr th {\n",
       "        vertical-align: top;\n",
       "    }\n",
       "</style>\n",
       "<table border=\"1\" class=\"dataframe\">\n",
       "  <thead>\n",
       "    <tr style=\"text-align: right;\">\n",
       "      <th></th>\n",
       "      <th>user_id</th>\n",
       "      <th>name</th>\n",
       "      <th>value_char</th>\n",
       "      <th>value_timestamp</th>\n",
       "    </tr>\n",
       "  </thead>\n",
       "  <tbody>\n",
       "    <tr>\n",
       "      <th>0</th>\n",
       "      <td>2.040579e+11</td>\n",
       "      <td>locale</td>\n",
       "      <td>Mitcham</td>\n",
       "      <td>NaT</td>\n",
       "    </tr>\n",
       "    <tr>\n",
       "      <th>1</th>\n",
       "      <td>2.079980e+11</td>\n",
       "      <td>name</td>\n",
       "      <td>Guest Lecturer</td>\n",
       "      <td>NaT</td>\n",
       "    </tr>\n",
       "    <tr>\n",
       "      <th>2</th>\n",
       "      <td>2.079980e+11</td>\n",
       "      <td>locale</td>\n",
       "      <td>Crewe</td>\n",
       "      <td>NaT</td>\n",
       "    </tr>\n",
       "    <tr>\n",
       "      <th>3</th>\n",
       "      <td>2.928147e+11</td>\n",
       "      <td>name</td>\n",
       "      <td>Pencari Kerja</td>\n",
       "      <td>NaT</td>\n",
       "    </tr>\n",
       "    <tr>\n",
       "      <th>4</th>\n",
       "      <td>2.725346e+11</td>\n",
       "      <td>summary</td>\n",
       "      <td>An ambitious and hardworking individual who is...</td>\n",
       "      <td>NaT</td>\n",
       "    </tr>\n",
       "  </tbody>\n",
       "</table>\n",
       "</div>"
      ],
      "text/plain": [
       "        user_id     name                                         value_char  \\\n",
       "0  2.040579e+11   locale                                            Mitcham   \n",
       "1  2.079980e+11     name                                     Guest Lecturer   \n",
       "2  2.079980e+11   locale                                              Crewe   \n",
       "3  2.928147e+11     name                                      Pencari Kerja   \n",
       "4  2.725346e+11  summary  An ambitious and hardworking individual who is...   \n",
       "\n",
       "  value_timestamp  \n",
       "0             NaT  \n",
       "1             NaT  \n",
       "2             NaT  \n",
       "3             NaT  \n",
       "4             NaT  "
      ]
     },
     "execution_count": 169,
     "metadata": {},
     "output_type": "execute_result"
    }
   ],
   "source": [
    "data.head()"
   ]
  },
  {
   "cell_type": "code",
   "execution_count": 170,
   "metadata": {
    "collapsed": true
   },
   "outputs": [],
   "source": [
    "## Tokenization parameters\n",
    "\n",
    "stopWords = stopwords.words('english')\n",
    "tokenizer_prefs = {\n",
    "    'tokenizer' : nltk.tokenize.PunktSentenceTokenizer(),\n",
    "#     'token_format' : 'stem',\n",
    "    'spell_correct' : False,\n",
    "    'np_extract': None,\n",
    "    'pos_tagger': None,\n",
    "    'analyzer': None,\n",
    "    'classifier': None, \n",
    "    'clean_html': False\n",
    "}"
   ]
  },
  {
   "cell_type": "code",
   "execution_count": 171,
   "metadata": {
    "collapsed": true
   },
   "outputs": [],
   "source": [
    "def clean_data(data, **kwargs):\n",
    "    '''\n",
    "    Cleans text data by:\n",
    "    1.  force lowercase\n",
    "    2.  remove non-ascii chars\n",
    "    3.  standardize whitespace\n",
    "    4.  remove digits\n",
    "    5.  remove control characters\n",
    "    6.  remove URL patterns\n",
    "    '''\n",
    "    df = pd.DataFrame(data)\n",
    "    \n",
    "    try:\n",
    "        df['value_char'] = data['value_char'].dropna().map(lambda x: \"\".join(i for i in x.strip().lower() if ord(i)<128))\n",
    "    except UnicodeDecodeError:\n",
    "        print(UnicodeDecodeError)\n",
    "        df['value_char'] = data['value_char'].dropna().map(lambda x: x.strip().lower())\n",
    "\n",
    "\n",
    "    url_pattern = \"((http|ftp|https):\\/\\/)?[\\w\\-_]+(\\.[\\w\\-_]+)+([\\w\\-\\.,@?^=%&amp;:/~\\+#]*[\\w\\-\\@?^=%&amp;/~\\+#])?\"\n",
    "\n",
    "    re_URL = re.compile(url_pattern)\n",
    "#     re_TAG = re.compile(\"(<[phl]>)\", re.IGNORECASE)\n",
    "    re_WS = re.compile(\"/[^\\S\\n]/\")\n",
    "#     re_DIGIT = re.compile(\"\\d\")\n",
    "    re_CTRL = re.compile(\"[\\x00-\\x11\\x03-\\x1F]+\")\n",
    "    re_HI = re.compile(\"[\\x80-\\xFF]+\")\n",
    "    re_NWC = re.compile(\"[!;<>?{}\\/~`#=@#$%^&*()_+]\")\n",
    "    \n",
    "    df['value_char'] = df['value_char'].map(lambda x: re_HI.sub(' ', x) if type(x) == str else None)\n",
    "    df['value_char'] = df['value_char'].map(lambda x: re_CTRL.sub(' ', x) if type(x) == str else None)\n",
    "    df['value_char'] = df['value_char'].map(lambda x: re_URL.sub(' ', x) if type(x) == str else None)\n",
    "#     data[prefix] = data[prefix].map(lambda x: re_DIGIT.sub(' ', x))\n",
    "    df['value_char'] = df['value_char'].map(lambda x: re_WS.sub(' ', x) if type(x) == str else None)        \n",
    "    df['value_char'] = df['value_char'].map(lambda x: re_NWC.sub(' ', x) if type(x) == str else None)\n",
    "    \n",
    "\n",
    "#     # create a blon using TextBlob\n",
    "#     tokenizer = kwargs['tokenizer']\n",
    "#     pos_tagger = kwargs['pos_tagger']\n",
    "#     analyzer = kwargs['analyzer']\n",
    "#     classifier = kwargs['classifier']\n",
    "#     np_extract = kwargs['np_extract']\n",
    "    \n",
    "#     df['value_char'] = df['value_char'].map(lambda l: TextBlob(l,\n",
    "#                                           tokenizer=tokenizer,\n",
    "#                                            np_extractor=np_extract,\n",
    "#                                            pos_tagger=pos_tagger,\n",
    "#                                            analyzer=analyzer) if l is not None else None)\n",
    "\n",
    "#     df_sentences = pd.DataFrame(df)\n",
    "#     # tokenize the document into sentences from blob object\n",
    "#     df_sentences['value_char'] = df['value_char'].map(lambda s: s.sentences if s is not None else None)\n",
    "    \n",
    "#     df_words = pd.DataFrame(df_sentences)\n",
    "#     # tokenize each sentence into words\n",
    "# #     df_words = df_sentences['value_char'].map(lambda l: map(lambda w: w.strip().words if w is not None and len(w)>1 else None, l))\n",
    "#     df_words['value_char'] = df_sentences['value_char'].dropna().map(lambda l: (w.strip().words for w in l if w is not None and len(w)>1))\n",
    "    \n",
    "    \n",
    "    return df"
   ]
  },
  {
   "cell_type": "code",
   "execution_count": 172,
   "metadata": {
    "collapsed": false
   },
   "outputs": [],
   "source": [
    "data_clean = clean_data(data, **tokenizer_prefs)"
   ]
  },
  {
   "cell_type": "code",
   "execution_count": 288,
   "metadata": {
    "collapsed": false
   },
   "outputs": [
    {
     "data": {
      "text/plain": [
       "[[100455018610.0,\n",
       "  '  determined self-motivator, highly organised and reliable.  experienced and innovative in various accounting procedures.  high personal integrity, and able to relate to and create trust in all.  highly articulate and confident  able to motivate and communicate to achieve exceptional business performances.  persistent and flexible approach to the mutually beneficial achievement of company business plans.  friendly, approachable.'],\n",
       " [100508885550.0,\n",
       "  \"i am a master's student studying zoology at the university of manchester. prior to university i was under full time employment for ap moller maersk - a multi-national shipping company. here i gained a plethora of experience in negotiating and organizational skills, systems and business development, a firm sense of responsibility and capacity to work hard under pressure. i have been tutoring students in gcse and a level biology for almost 12 months which has given me a firm grasp on lesson planning and effective communication.\"],\n",
       " [100608884687.0,\n",
       "  'focused and ambitious graduate looking to acquire more knowledge, gain valuable experience, and begin a professional legal career.  various skills and ambition would be used to assist in the growth of a prospective firm.'],\n",
       " [100655128765.0,\n",
       "  ' over 4 years of hands-on experience in business process modeling, mapping, requirements management using various sdlc methodologies such as waterfall, agile and rup processes. extensively involved in jad sessions uml modeling, prototype design, rapid prototyping, , rad and quality assurance of client server and web-based systems with focus on  finance, banking industry, insurance, mortgage and healthcare banking professional with 2  years of experience as a deposit operations representative  with focus in risk mitigation. knowledgeable in bank secrecy act  bsa  anti money laundering  aml  and large currency transactions and court orders. analytical, detail oriented with ability to meet deadlines. experience in building sql queries, creating sub queries, minus, union, inline queries and performance tuning of sql  db2 and oracle . extensive experience in translating business requirements and user expectations into detailed specifications by using various text formats   unified modeling language  uml . experienced with all the phases of sdlc throughout the project life cycle in rational unified process  rup  environment and the creation of artifacts and management of various roles specified by rup. solid background in software development life cycle methodologies such as the traditional waterfall model as well as iterative approach to software development. expertise in requirement analysis and designing use cases. experience with brokerage industry proficient in creating use cases, sequence diagrams, activity diagrams, class diagrams etc. experience with currency transaction reporting systems extensive programming experience in developing enterprise applications using   technologies and sql server database 2010 and 2008   ,   ,web services, uml, html , java script and xml. ability to gather business and technical requirements from both formal and informal sessions utilizing a variety of software tools to format them into formal documents. strong experience in requirements gathering techniques - conducting user interviews and jad sessions. created access databases and data mapping document for data stage etl transactions. experienced in performing business process analysis to check the compatibility of the existing system infrastructure with the new business requirements. effective in executing multiple tasks and assignments ahead of schedule. reputation for dedicated teamwork, high energy, work ethics and commitment with capability to handle new technologies and situations. participated on multiple analysis projects for various applications, developedinternally and by other solution providers. involved in reviewing test procedures, defining test cases, reviewing and maintaining test scripts, analyzing bugs and user acceptance testing  uat . extensive experience in using ms project for status reporting and planning. team player, result-oriented, fast learner, excellent communication skills with strong research capability. new loan setup, payment application remittance, escrow and reserve administration, collateral inspection and monitoring. strong knowledge of business intelligence, data warehousing and business architecture. excellent communication and presentation skills. experience working with business users as well as senior management.'],\n",
       " [100664254106.0,\n",
       "  ' skilled professional with proven track record of over 7  years as a sr. business analyst in the financial, insurance and healthcare industry. excellent analytical skills to understand the business process and functionality, requirements and to translate them to system requirement specifications. developing functional specifications for business process refinement and automation, data modeling, system architecture, conducting feasibility studies, scope. proficient with methodologies like software development life cycle  sdlc , project management methodology  pmm , iterative rational unified process  rup , and rational tools used in different projects. strong understanding of banking, credit approval system, mbs, sox and basel accords and investment banking  stock exchange, fixed income, stocks bonds, equities, options futures, trading operations, mutual funds etc.  proficiency with rational enterprise suite  requisitepro, rational rose, clear case, clear quest  in support of the rup methodology. experienced working with service oriented architecture  soa , software development life cycle  sdlc  and agile scrum methodology.']]"
      ]
     },
     "execution_count": 288,
     "metadata": {},
     "output_type": "execute_result"
    }
   ],
   "source": [
    "heads = []\n",
    "indicies = []\n",
    "\n",
    "for i, row in data.iterrows():\n",
    "    if row[1] == 'summary':\n",
    "        heads.append([row[0], row[2]])\n",
    "        indicies.append(row[0])\n",
    "\n",
    "heads.sort(key=lambda x: x[0])\n",
    "heads[:5]"
   ]
  },
  {
   "cell_type": "code",
   "execution_count": 327,
   "metadata": {
    "collapsed": false
   },
   "outputs": [
    {
     "data": {
      "text/plain": [
       "[[100455018610,\n",
       "  \"locale: kirkby, name: finance analyst, headline: finance analyst - cpi card group - uk ltd, degree: ba en business information systems and combined studies, school: liverpool john moore's university\"],\n",
       " [100508885550,\n",
       "  'name: personal science tutor gcse, locale: manchester, degree: msci di zoology, school: the university of manchester, headline: presonal science tutor gcse - tutorfuture'],\n",
       " [100608884687,\n",
       "  'name: intern, locale: philadelphia, pa, degree: doctor of jurisprudence, school: widener university school of law, headline: law school graduate'],\n",
       " [100655128765,\n",
       "  \"title: business analyst, skill: quality management: concept and tools of quality management test director and win runner, iso concepts, six sigma techniques, skill: user interface: html, xhtml, css, java script, title: business intelligence business analyst, skill: technical skills:, additional_info: technical skills:languages: c  , sql, javaoperating systems: win [] xp, unixinternet technologies: html, xml, vb script, java scriptdatabases: ms sql server, ms access, oracle 8itools: ms office, ms project, visio, rational rose, requisitepro, rational soda, clear case, clear quest, ms front pagereporting tools: crystal reportsquality management: concept and tools of quality management test director and win runner, iso concepts, six sigma techniquesweb technologies: asp, javascript, html, dhtml, iis, and frontpageuser interface: html, xhtml, css, java script, name: business intelligence business analyst, skill: languages: c  , sql, java, skill: operating systems: win [] xp, unix, skill: internet technologies: html, xml, vb script, java script, skill: web technologies: asp, javascript, html, dhtml, iis, and frontpage, locale: dublin, oh, skill: databases: ms sql server, ms access, oracle 8i, skill: tools: ms office, ms project, visio, rational rose, requisitepro, rational soda, clear case, clear quest, ms front page, skill: reporting tools: crystal reports, company: safelite auto glass, ohio, company: dcsl software, description:  coordinated regular business requirement meetings with business users. performed requirements analysis and delivered final requirement documents. functioned as the liaison between business community and project team. worked with pm to decide on project approach as well as project plan. developed front-end functional specification documents based on reporting requirements. worked with technical architect to deliver the functional design specification documents. designed and developed use cases, activity diagrams, sequence diagrams and ood using uml. developed test scenarios and implemented test plan, providing key input in working with users in defining project and system requirements., work_location: chase bank, ohio, company: lloyds bank, work_location: lloyds bank, work_location: dcsl software, work_location: safelite auto glass, ohio, headline: business intelligence business analyst - safelite auto glass, ohio, description: business analyst for the department of kyc compliance. this project is enhancement of risk assessments  rtra  for various international wire transactions at country level based on threshold. as a bi business analyst involved in identifying aml kyc norms for specific country and created configuration templates for monitoring of alerts on all transactions based on threshold for actimize department. updated   application that runs on barcode scanner used to track business details. involved in technical breakouts with cross functional teams to ensure the technical requirements were feasible.  designed technical, functional and business requirements artifacts. created interactive dashboards using xcelsius. understand the requirements for etl process ensured cip requirements, customer due diligence and enhanced due diligence policies are being followed based on kyc norms for specific countries. documented technical compatibility by gathering adequate requirements to mimic client's platform requirements for actimize aml as a part of cdd ecdd. created uml to ensure the business logic is clearly demonstrated to developers, created use cases to understand the narratives. manually performed smoke testing for basic functionality checking as entry criteria for the system testing. developed test cases for deployment verification, etl data validation, cube testing and data report testing in business objects created databases, tables, views, functions and triggers using t-sql. extensively worked on performance of sql queries using explain plan and optimized the queries using hints and altering and creating index. involved in creating database views. developed forms with triggers, alerts and lovs participating in the unit testing  debugging automated and scheduled the informatica jobs using unix shell scripting tested sql queries to validate the data and performance of the database wrote complex sql queries between source and target for validating etl jobs.  maintained test logs and test summary reports and prepared weekly status reports. developed test cases to accomplish etl data migration. conducted frs walkthroughs with technical departments to ensure design is accurate. developed a file tracking application that organizes the location for all trust operations records. used by business managers to request trust records with vb  , ms access 2000. reviewed defect reporting and resolution in mercury quality centre to track project progress against schedule. wrote and executed system test plans, test cases and test data on ms excel for the web-based application. performed functional, smoke, regression, usability, system and integration testing. identified, organized, and documented the changing requirements for the application using rational requisite pro. engaged in system testing during user acceptance testing  uat . supported the assigned project manager with creating detailed project plans and assisting in developing, scheduling and tracking project timelines. gathering and documenting the requirements that are critical to the business mission and using those requirements to design application software. created use case scenarios and documented work flow and business process. used requisitepro to document requirements, associated change requests with requirements and connected requirements with use cases. prepared the uml use cases using rational rose. used ms visio for flow-charting, process model and architectural design of the application. documented business workflows textually as well as in uml diagrams according to rup for the stakeholder review. conducted jad sessions to allow different stakeholders to communicate their perspectives with each other, resolve any issues and come to an agreement quickly. involved in maintaining and managing different versions of documents using rational clearcase. conducted frs and urs reviews and walkthroughs with the designers, developers and   rose, rational requisite pro, sql 2012,uml ,rup,ms office, visualbasic, winrunner, testdirector, windows 2000,java,j2ee,oracle 9i ,citrix metaframe server,pega and filenet., company: chase bank, ohio, description: responsible for reporting large cash transactions in excess of  10,  or suspicious activity across all regions. and also the project was to re-engineer the credit card and annuity premium calculation platform. it involved the design and development of applications to support the portfolio management and performance analysis of the credit card business with various reward offerings. the second phase of the project involves enhancement of fixed and variable premium calculator to support additional payout features. it also involved enhancement of the applications for accommodation of changing business and regulatory requirements. it also dealt with the design of the end user web-based interface, which involved olap reporting system implemented to provide business intelligence capability with a stress on better usability and portability. the main issues that needed to be taken care of were electronic approvals to end-customers and support for various types of credit applications that were being submitted for  : responsible for reporting large cash transactions in excess of  10,  or suspicious activity across all regions. complete weekly currency transaction reporting for all us regions by irs deadline to avoid penalties, including analysis and comparison of system generated reports fincen104 and 31030   customer information research.  ensure all currency transaction reporting transactions are submitted within the established time frame to prevent late filings. design, quality, sql and pl sql reviews, making specific recommendations to enhance the performance of pl sql packages. report all branch errors in a department statistic database, in a timely and accurate manner.  regular monitor suspicious activity on currency transaction reporting file concern reports to bsa compliance if suspicious activity is identified. formulated and documented business requirements to support new product initiatives that support strategic plan and customer initiatives conducted analysis of business processes and requirements and identified technology enabled improvements wrote complex stored procedures to fetch the data from the given jobs. created databases, tables, views, functions and triggers using t-sql. efficient use of joints and sub-queries in queries that retrieve data from multiple tables. translated business requirements into functional specifications for communication to technology team marketed assessment analysis including evaluation of competing products   development of long term product roadmap acted a resource in understanding how the upgraded system carries out the business functions and assists in ensuring the timely and effective implementation. coordinated work plan between project manager and client with microsoft project  implemented and managed migration process  developer fixes  retested fixes  scheduled and tracked progress for team members of project through completion. applied excellent knowledge of customer segmentation, portfolio analysis mgmt, fdr and tsys processes and fico score generation. assisted in development of training materials for new technology and process improvements. worked closely with senior management to create work-breakdown structure, resource breakdown structure using ms project and managed project and resources to accomplish company's goal. assessed and articulated the business value proposition of proposed new features met with business stakeholders to gain consensus on new product functionality prioritized new features and functionality based on business needs identified and documented best practices for the product offering provided analytical support and problem resolution for existing customers, description: lloyds bank has been serving the households, businesses and communities of britain. we offer a comprehensive range of financial products and services - including current accounts, savings, mortgages, loans and credit cards. explored all aspects of the claim processing lifecycle, starting from identifying a claim to its closure. manually performed smoke testing for basic functionality checking as entry criteria for the system testing. developed test cases for deployment verification, etl data validation, cube testing and data report testing in business objects  automated and scheduled the informatica jobs using unix shell scripting tested sql queries to validate the data and performance of the database wrote complex sql queries between source and target for validating etl jobs.  functional testing, regression testing and acceptance testing.  working with different customers and work with center of excellence groups in taking key decisions. involved in extensive data validation using sql queries and back-end testing.  performed job monitoring testing using control-m  experience in creating unix scripts for file transfer and file manipulation.  provided the uat and production support for end to end test script execution and defect retest. good experience in onsite model work. schedule and co-ordinate testing tasks in qc.  organize defect triage calls development and business team to resolve outstanding issues. worked on informatica workflow monitor to run workflows.  validated the bo reports by checking the summary records in the cube equal the total of the detail records in the report when queried using the same parameters  maintained test logs and test summary reports and prepared weekly status reports. developed test cases to accomplish etl data migration used sql to troubleshoot and analyse defects identified. used ms word document for requirement gathering. worked intensively on various phases in the project lifecycle to design the system in such a way that the high risk claims could be easily identified and monitored. participated in preparing basis for project vision documentation. involved in walkthroughs with business team, architects and developers to refine the requirements. generated use-case diagrams using uml. implemented traceability matrix and user requirement specification document  urs  to verify the functionality. streamlined clerical work processes and mapped to the automated system involved with the software quality assurance  sqa  team to develop test  : ms visio, uml, oracle, sql, ms office and windows 2000.\"],\n",
       " [100664254106,\n",
       "  'skill: programming languages   sql, transact sql, pl sql, c, c  , cobol, visual basic, html, xml, java, .net framework, c ,  , skill: database systems    sql server, oracle, db2, and ms access, teradata, skill: operating system    windows, unix, additional_info: technical skills:programming languages   sql, transact sql, pl sql, c, c  , cobol, visual basic, html, xml, java, .net framework, c ,   systems    sql server, oracle, db2, and ms access, teradatamodeling tools    ms visio, rational rose, visual paradigmprocess toolsrational rose suite, rup, ms office suite, ms project, ms visio, ms share point, sasv, version one, xml spy, pivot tables, requisite proreporting tools    crystal reports, cognos, ssrsoperating system    windows, unixtesting tools    rational enterprise suite, qtp, load runner, hp quality centre, clear   tools    informatica, data stage, ssisdocumenting tools    ssrs, documentum, doors, title: financial business analyst, title: finance analyst, title: business analyst, skill: modeling tools    ms visio, rational rose, visual paradigm, skill: rational rose suite, rup, ms office suite, ms project, ms visio, ms share point, sasv, version one, xml spy, pivot tables, requisite pro, skill: testing tools    rational enterprise suite, qtp, load runner, hp quality centre, clear quest., skill: etl tools    informatica, data stage, ssis, skill: documenting tools    ssrs, documentum, doors, locale: san jose, ca, skill: process tools, name: financial business analyst, skill: technical skills:, skill: reporting tools    crystal reports, cognos, ssrs, company: bank of new york, work_location: bank of new york, company: liberty mutual, headline: financial business analyst - bank of new york, description: project scope: worked on the banking application where the customers can access account details like the checking and saving account details, can view, update personal information and can make the payments directly from the checking accounts. they can view details of current balances, loan history, tax and interest information, online. the application responds within 60 seconds and gives details of credit card approval or non-approval of individual requests of individual applicants. the account number enables the customer to get connected to their account information and enables the customer to perform these  : extensively involved in every phase of the rup process starting from inception to transition interviewed business users to gather requirements and analyzed the feasibility of their needs by coordinating with the project manager and technical lead. assigned tasks among development team monitored and tracked progress of project following agile methodology. participated in data modeling, data analysis and requirement documentation. extensive experience in financial service industry related t - credit risk, market risk, market risk, credit risk, liquidity risk, basel ii iii, and ccar. worked on broad range of technologies, including business process tools such as microsoft project, primavera, ms excel, ms word, ms access, ms visio, technical assessment tools, data warehousing concepts and web design and development. conducted multiple gap analysis against basel ii,   and iii rules. validated basel ii framework,including internal rating systems  pd, lgd, ead models  and rwa calculation. documented requirement traceability matrix in ms excel sheet for traceability of requirements through test cases. wrote test plans in ms word for manual testing, system testing, integration testing, performance testing, regression testing   reviewed their consistency with the business requirements. prepared business requirement documents  brd\\'s  after the collection of functional requirements from system users that provided appropriate scope of work for technical team to develop prototype, use cases, uml diagrams for overall system. created suite of excel models used monthly for analysis and verification of basel iii results in production environment. performed process mapping testing and documentation of capital markets to remediate the gap in all business processes to be compliant with laws and regulations, assessed the business processes to ensure that financial and operating information is accurate and reliable, risks are identified and managed, systems of management. provided coverage for aml compliance monitoring, cip, kyc and ofac. assisted the internal audit analyst for various work-streams within ccar audit -  . basel iii, treasury liquidity, rwas, capital policy planning, and risk identification. established traceability matrix using rational requisite pro to trace completeness of requirements in different sdlc stages. designed and developed project document templates based on sdlc methodology. interacted with users for verifying user requirements, managing change control process, updating existing documentation. created relationships in requirement traceability matrix linking business requirements to functional requirements and functional requirements to systems requirements. conducted joint application development  jad  sessions with it groups. identified the key changes, and participated in stakeholder management to communicate effectively with them developed and documented timelines for project delivery, and managed projects and resources to successful completion. prepared graphical depictions of use cases, use case diagrams, state diagrams, activity diagrams, sequence diagrams, component based diagrams, and collateral diagrams and creation of technical design  ui screen  using microsoft visio. worked on documentum for version controlling, to maintain up to date changes in the documents. assisted to develop the test plan, test cases and test scenarios to be used in testing based on business requirements, technical specifications and or product knowledge. conducted user acceptance testing, gathered and documented user manuals and business  : ms office suite  word, excel, access, powerpoint   outlook , microsoft visio, documentum, windows nt xp, oracle, sql, sql server, sybase, rup, vbscript, uml, sharepoint, adobe photoshop, cali., work_location: voya financial  formerly ing , work_location: liberty mutual, description: project scope: liberty mutual is a leading insurance firm providing wide range of insurance products and services that include auto, home and life insurance. involved in development of claim management data warehouse to assist claim professionals to analyze and administer the claims in an efficient manner. the operational data came from multiple sources and was then loaded into claim management data  : involved in the analysis of the existing credit card processing system, mapping phase according to functionality and data conversion procedure. performed gap analysis to check the compatibility of the existing system infrastructure with the new business requirements. followed solely rup methodologies during the course of the project. incorporated rational unified process  rup  to create requirement document specifications using visible analyst. facilitated sox audit, automation of reports. accumulated system requirements from various departments through surveys and interviews. involved in prioritizing the defects and writing business requirements to resolve them. conducted jad sessions with management, sme, vendors, users and other stakeholders for open and pending issues. interacted closely with end users from underwriting   claims teams and smes to understand and gather the business needs and requirements. prepared business requirement documents  brd\\'s  after the collection of functional requirements from system users that provided appropriate scope of work for technical team to develop prototype and overall system. involved in testing by using sql and work with qa together to develop test scenarios and test cases. planned and defined system requirements to wire frames with use case, use case scenario and use case narrative using the uml  unified modeling language  methodologies. created use case diagrams, activity diagrams, sequence diagrams and er diagrams in ms project. designing and customizing data models for data warehouse supporting data from multiple sources assisted in the development, design and implementation of new relational or multi-dimensional databases, including the analysis of user needs. created and managed project templates, use case project templates, requirement types and traceability relationships in requisite pro. developed systems specifications document to define the impact of the new requirements on the existing system. worked extensively with ms excel and ms access. involved in performance measurement to develop measurable indicators that can be systematically tracked to assess progress made in achieving predetermined goals. developed and managed creation of product documentation to communicate features, benefits, positioning and impacts to different audiences and ensured that documentation deliverables from various groups are produced as needed. involved in performance measurement of ongoing data collection to determine if a program is implementing activities and achieving objectives. involved in reviewing test plans and test cases and ensuring test cases reflect user needs. also responsible for conducting user training and user acceptance testing to ensure and verify system is designed according to user needs. conducted review sessions on regular basis with qa and development teams for preparing status, delivery report and client reporting. suggested measures and recommendations to improve the current application  : rational enterprise suite  rose, requisitepro, clearcase, clearquest , uml, rup, case wise modeler, ibm websphere, xml, java, unix, c  , j2ee, jsp, oracle, db2, sybase, sql server reports, quick testpro., company: fiserv, work_location: fiserv, description: project scope: fiserv is a diversified financing solution provider serving consumers, retailers and businesses around the globe in commercial lending and leasing. the project was how interest should be applied to businesses who borrowed money from banks. the project was built on fiserv technologies which will allow businesses and banks to allocate interest and allow businesses and banks to run and view  : analyzed software requirement specification documents for different finance based projects including in-house projects and client\\'s onsite projects too. worked on different in-house projects for different corporate finance, investment banking, and insurance companies for fixed income, asset management, wealth management, derivative products, otc derivatives, trade life cycle, mortgage, insurance management. created processing model diagrams in uml visio using the business process information  captured in the business context analysis documents. worked on electronic documentation as well. elicited requirements by employing information-gathering techniques   ., interviews, surveys, business process analysis , competitive product analysis, reverse engineering of existing  systems, etc. participated in the corporate wide bpr roadmap process to define the \"to be\" process based on design for six sigma methodology. developed functional requirements and a proposed data warehouse strategy for supporting employee compensation and compliance reporting analytics. involved in defining the scope of the project, gathering business requirements and documenting and managing them using rational rose and rational requisite pro respectively. presented high level requirements and interaction diagrams using use cases, to user groups, as well as documenting requirements and getting them reviewed and base lining the same. analyze business requirements and segregated them into high level and low level use cases, activity diagrams using uml  : windows, rational requisite pro, ms office, lotus notes, alm and kyc tool, sql server, ms project, sox, java, unix, ms access, uml, cognos, sharepoint, sales  : bachelors in information technology., company: voya financial  formerly ing , description: project scope: voya financial is a global financial institution of dutch origin. voya financials strategic focus is on banking, investments, life insurance, property, casualty and health  non-life  insurance, wealth management and retirement services. ing serves more than 85 million private, corporate and institutional customers in north and latin america, europe, asia and australia. voya financial conducts business on the basis of clearly defined business principles. voya financial strives to be a good corporate  : interacting with the stakeholder to get a clear understanding of client business processes and conducted business requirements analysis. developed as-is work flow and to-be work flow. identified business requirements from the users by interview and brain storming methods. created use case specifications and use case scenarios. created business process workflow diagrams  activity diagrams  in rational rose and reports using cognos and crystal. managed all the requirements in requisitepro, making requirements available to all team members. worked with marketing director to prepare and manage the clients\\' portfolio and annual marketing budget for the region. designed online surveys for customer management, customer satisfaction, new product marketability and customer loyalty. worked on various credit card applications to ensure pci compliance and perform other isa  information security administration  functions. managed certification and compliance with the payment card industry  pci  data security standard  dss  created test plan and test cases for user acceptance testing. used rational testing tools. supervised the research analyst and performed staff management functions such as human resources process as hiring, training, mentoring, and performance analysis, measurement assessment. conducted and participated in jad sessions with stakeholders and system users to collect the software requirement specifications  srs  and used requisitepro to maintain the requirements. worked closely with cash management services  cms  to develop the arrangement cash money national wise and foreign transactions  forex  involved with cash management services  cms  for developing the cash management of premier debit card, credit card cash limits flow and transactions. responsible for gathering requirements from subject matter experts  sme\\'s  and primary user\\'s underwriters and payments department to update premium collection procedure and automatic clearing house  ach  developed know your customer forms  kyc  to prevent anti money laundering  aml  involved in financial intelligence unit  fiu  for suspicious know your customer  kyc  transactions and performed as an underwriter. worked closely as a member of financial intelligence unit  fiu  with principal compliance officer  pco  for kyc and aml programs. involved in primary underwriting actuarial process for risk calculation and risk assessment. managed risk-based audits, due diligence and governance of new initiatives and compliance  aml  anti-money laundering , sox, basel ii, glba, pci  programs to mitigate risks worked with annuity  pension  administration department and developed primary processing software to analyze the annuity  pension  coverage, coverage terms, and total annuity  pension  processing system. worked closely with sales and development team and finalized the task priorities for each team member by city and then by state. interacted with fund management team to propose fund performance and analytics management chart, monitor performance and analytics of funds and expected return calculation. worked closely with compliance department and assessed client risk and designed negotiated and implemented insurance and risk management programs. performed feasibility analysis and risk analysis on vendor third party tools. assured that all artifacts are in compliant with corporate sdlc policies and guidelines. involved in software testing process. worked with quality analysts to create test plan, test cases and test  : web logic, java, oracle, ms-project, ms-office hp-quality center, sql, sql-navigator, rup, agile, waterfall, uml, rational requisite pro, ms visio, cognos and crystal reports.']]"
      ]
     },
     "execution_count": 327,
     "metadata": {},
     "output_type": "execute_result"
    }
   ],
   "source": [
    "from itertools import groupby\n",
    "\n",
    "cv_attributes = []\n",
    "\n",
    "for i, row in data.iterrows():\n",
    "    if row[0] in indicies and row[1] != 'summary' and row[2] is not None:\n",
    "        cv_attributes.append([int(row[0]), row[1] + ': ' + row[2]])\n",
    "cv_attributes.sort(key=lambda x: x[0])\n",
    "        \n",
    "description = [[user_id, [cv_field[1] for cv_field in cv_fields]] for user_id, cv_fields in groupby(cv_attributes, lambda x: x[0])]\n",
    "# description= [user_id for user_id, cv_fields in groupby(cv_attributes, lambda x: int(x[0]))]\n",
    "desc = [[p[0], ', '.join(p[1][0:])] for p in description]\n",
    "# desc.sort(key=lambda x: x[0])\n",
    "# desc[:5]\n",
    "desc.sort()"
   ]
  },
  {
   "cell_type": "code",
   "execution_count": 337,
   "metadata": {
    "collapsed": false
   },
   "outputs": [],
   "source": [
    "user_ids = []\n",
    "for i in desc:\n",
    "    user_ids.append(i[0])\n",
    "user_ids.sort()\n",
    "\n",
    "desc_data = []\n",
    "heads_data = []\n",
    "\n",
    "for i, u_id in enumerate(user_ids):\n",
    "    if desc[i][0] == u_id and heads[i][0] == u_id:\n",
    "        desc_data.append(desc[i][1])\n",
    "        heads_data.append(heads[i][1])\n"
   ]
  },
  {
   "cell_type": "markdown",
   "metadata": {},
   "source": [
    "Generate intial word embedding for headlines and description"
   ]
  },
  {
   "cell_type": "markdown",
   "metadata": {},
   "source": [
    "The embedding is limited to a fixed vocabulary size (`vocab_size`) but\n",
    "a vocabulary of all the words that appeared in the data is built."
   ]
  },
  {
   "cell_type": "code",
   "execution_count": 344,
   "metadata": {
    "collapsed": true
   },
   "outputs": [],
   "source": [
    "FN = 'vocabulary-embedding'"
   ]
  },
  {
   "cell_type": "code",
   "execution_count": 345,
   "metadata": {
    "collapsed": true
   },
   "outputs": [],
   "source": [
    "seed=42"
   ]
  },
  {
   "cell_type": "code",
   "execution_count": 346,
   "metadata": {
    "collapsed": true
   },
   "outputs": [],
   "source": [
    "vocab_size = 40000"
   ]
  },
  {
   "cell_type": "code",
   "execution_count": 347,
   "metadata": {
    "collapsed": true
   },
   "outputs": [],
   "source": [
    "embedding_dim = 100"
   ]
  },
  {
   "cell_type": "code",
   "execution_count": 348,
   "metadata": {
    "collapsed": true
   },
   "outputs": [],
   "source": [
    "lower = False # dont lower case the text"
   ]
  },
  {
   "cell_type": "markdown",
   "metadata": {},
   "source": [
    "# read tokenized headlines and descriptions"
   ]
  },
  {
   "cell_type": "code",
   "execution_count": 7,
   "metadata": {
    "collapsed": true
   },
   "outputs": [],
   "source": [
    "# import cPickle as pickle\n",
    "# FN0 = 'tokens' # this is the name of the data file which I assume you already have\n",
    "# with open('data/%s.pkl'%FN0, 'rb') as fp:\n",
    "#     heads, desc, keywords = pickle.load(fp) # keywords are not used in this project"
   ]
  },
  {
   "cell_type": "code",
   "execution_count": 349,
   "metadata": {
    "collapsed": true
   },
   "outputs": [],
   "source": [
    "if lower:\n",
    "    heads_data = [h.lower() for h in heads_data]"
   ]
  },
  {
   "cell_type": "code",
   "execution_count": 350,
   "metadata": {
    "collapsed": true
   },
   "outputs": [],
   "source": [
    "if lower:\n",
    "    desc_data = [h.lower() for h in desc_data]"
   ]
  },
  {
   "cell_type": "code",
   "execution_count": 352,
   "metadata": {
    "collapsed": false
   },
   "outputs": [
    {
     "data": {
      "text/plain": [
       "'  determined self-motivator, highly organised and reliable.  experienced and innovative in various accounting procedures.  high personal integrity, and able to relate to and create trust in all.  highly articulate and confident  able to motivate and communicate to achieve exceptional business performances.  persistent and flexible approach to the mutually beneficial achievement of company business plans.  friendly, approachable.'"
      ]
     },
     "execution_count": 352,
     "metadata": {},
     "output_type": "execute_result"
    }
   ],
   "source": [
    "i=0\n",
    "heads_data[i]"
   ]
  },
  {
   "cell_type": "code",
   "execution_count": 353,
   "metadata": {
    "collapsed": false
   },
   "outputs": [
    {
     "data": {
      "text/plain": [
       "\"locale: kirkby, name: finance analyst, headline: finance analyst - cpi card group - uk ltd, degree: ba en business information systems and combined studies, school: liverpool john moore's university\""
      ]
     },
     "execution_count": 353,
     "metadata": {},
     "output_type": "execute_result"
    }
   ],
   "source": [
    "desc_data[i]"
   ]
  },
  {
   "cell_type": "code",
   "execution_count": 354,
   "metadata": {
    "collapsed": false
   },
   "outputs": [],
   "source": [
    "# keywords[i]"
   ]
  },
  {
   "cell_type": "code",
   "execution_count": 355,
   "metadata": {
    "collapsed": false
   },
   "outputs": [
    {
     "data": {
      "text/plain": [
       "(2273, 2263)"
      ]
     },
     "execution_count": 355,
     "metadata": {},
     "output_type": "execute_result"
    }
   ],
   "source": [
    "len(heads_data),len(set(heads_data))"
   ]
  },
  {
   "cell_type": "code",
   "execution_count": 356,
   "metadata": {
    "collapsed": false
   },
   "outputs": [
    {
     "data": {
      "text/plain": [
       "(2273, 2273)"
      ]
     },
     "execution_count": 356,
     "metadata": {},
     "output_type": "execute_result"
    }
   ],
   "source": [
    "len(desc_data),len(set(desc_data))"
   ]
  },
  {
   "cell_type": "markdown",
   "metadata": {},
   "source": [
    "# build vocabulary"
   ]
  },
  {
   "cell_type": "code",
   "execution_count": 521,
   "metadata": {
    "collapsed": true
   },
   "outputs": [],
   "source": [
    "from collections import Counter\n",
    "from itertools import chain\n",
    "def get_vocab(lst):\n",
    "    vocabcount = Counter(w for txt in lst for w in txt.split())\n",
    "    vocab = map(lambda x: x[0], sorted(vocabcount.items(), key=lambda x: -x[1]))\n",
    "    return vocab, vocabcount"
   ]
  },
  {
   "cell_type": "code",
   "execution_count": 522,
   "metadata": {
    "collapsed": true
   },
   "outputs": [],
   "source": [
    "vocab, vocabcount = get_vocab(heads_data+desc_data)"
   ]
  },
  {
   "cell_type": "markdown",
   "metadata": {
    "collapsed": true
   },
   "source": [
    "most popular tokens"
   ]
  },
  {
   "cell_type": "code",
   "execution_count": 523,
   "metadata": {
    "collapsed": false
   },
   "outputs": [],
   "source": [
    "# print(vocab[:50])\n",
    "# print('...',len(vocab))"
   ]
  },
  {
   "cell_type": "code",
   "execution_count": 524,
   "metadata": {
    "collapsed": false
   },
   "outputs": [
    {
     "data": {
      "image/png": "[encoded data removed]",
      "text/plain": [
       "<matplotlib.figure.Figure at 0x7f6f3c3215f8>"
      ]
     },
     "metadata": {},
     "output_type": "display_data"
    }
   ],
   "source": [
    "import seaborn as sns\n",
    "import matplotlib.pyplot as plt\n",
    "%matplotlib inline\n",
    "plt.plot([vocabcount[w] for w in vocab]);\n",
    "plt.gca().set_xscale(\"log\", nonposx='clip')\n",
    "plt.gca().set_yscale(\"log\", nonposy='clip')\n",
    "plt.title('word distribution in headlines and discription')\n",
    "plt.xlabel('rank')\n",
    "plt.ylabel('total appearances');"
   ]
  },
  {
   "cell_type": "markdown",
   "metadata": {},
   "source": [
    "always nice to see [Zipf's law](https://en.wikipedia.org/wiki/Zipf%27s_law)"
   ]
  },
  {
   "cell_type": "markdown",
   "metadata": {},
   "source": [
    "# Index words"
   ]
  },
  {
   "cell_type": "code",
   "execution_count": 525,
   "metadata": {
    "collapsed": true
   },
   "outputs": [],
   "source": [
    "empty = 0 # RNN mask of no data\n",
    "eos = 1  # end of sentence\n",
    "start_idx = eos+1 # first real word"
   ]
  },
  {
   "cell_type": "code",
   "execution_count": 526,
   "metadata": {
    "collapsed": true
   },
   "outputs": [],
   "source": [
    "def get_idx(vocab, vocabcount):\n",
    "    word2idx = dict((word, idx+start_idx) for idx,word in enumerate(vocab))\n",
    "    word2idx['<empty>'] = empty\n",
    "    word2idx['<eos>'] = eos\n",
    "    \n",
    "    idx2word = dict((idx,word) for word,idx in word2idx.items())\n",
    "\n",
    "    return word2idx, idx2word"
   ]
  },
  {
   "cell_type": "code",
   "execution_count": 527,
   "metadata": {
    "collapsed": false
   },
   "outputs": [],
   "source": [
    "word2idx, idx2word = get_idx(vocab, vocabcount)"
   ]
  },
  {
   "cell_type": "code",
   "execution_count": 530,
   "metadata": {
    "collapsed": false
   },
   "outputs": [
    {
     "data": {
      "text/plain": [
       "Counter({'pull': 13,\n",
       "         'hire.': 1,\n",
       "         'tendering,': 1,\n",
       "         'high-precision': 1,\n",
       "         'training.': 34,\n",
       "         'dem': 1,\n",
       "         '-performed': 1,\n",
       "         'navair,': 3,\n",
       "         'manhattan:': 1,\n",
       "         'approx': 2,\n",
       "         'coordinated': 282,\n",
       "         'rxkinetix': 2,\n",
       "         'sp-800-66,': 1,\n",
       "         'home': 151,\n",
       "         'point,': 102,\n",
       "         'eastbourne,': 1,\n",
       "         '4550,': 1,\n",
       "         'outputs,': 4,\n",
       "         'budgeted': 5,\n",
       "         'periods.': 3,\n",
       "         'nodal': 2,\n",
       "         'preparedness,and': 1,\n",
       "         'queryperformance,': 1,\n",
       "         'functionality': 262,\n",
       "         'administered,': 1,\n",
       "         'different.,': 2,\n",
       "         'testpro.,': 1,\n",
       "         'corelink': 4,\n",
       "         'kick-off': 2,\n",
       "         'earth,': 4,\n",
       "         'etms': 4,\n",
       "         'harness': 5,\n",
       "         'crete,': 2,\n",
       "         'spread': 28,\n",
       "         'severalthousand': 1,\n",
       "         'provided': 722,\n",
       "         'thenext': 2,\n",
       "         'mid1.': 1,\n",
       "         'flexible': 86,\n",
       "         'taxation,': 4,\n",
       "         'trending': 9,\n",
       "         'purify': 1,\n",
       "         'eg:': 1,\n",
       "         'gb-151': 1,\n",
       "         '8055253864substitute': 1,\n",
       "         'cecl': 1,\n",
       "         'lexicon': 1,\n",
       "         'cloud-hosted': 3,\n",
       "         'dashboards': 174,\n",
       "         'sn-bi,': 1,\n",
       "         'designercrystal': 2,\n",
       "         'schoolboy': 1,\n",
       "         'sathyabama': 1,\n",
       "         'champions,': 2,\n",
       "         'claimsearch': 1,\n",
       "         'her,': 5,\n",
       "         'skillareas:': 1,\n",
       "         'hucknall': 3,\n",
       "         'love.': 2,\n",
       "         'tenants,': 1,\n",
       "         'workflows': 84,\n",
       "         'same,': 3,\n",
       "         'metricimplementation': 1,\n",
       "         'descriptionprogramming': 1,\n",
       "         'exists': 7,\n",
       "         'ender,': 1,\n",
       "         'transformer.': 3,\n",
       "         'arbitration.': 1,\n",
       "         'pitney': 1,\n",
       "         'renewable': 13,\n",
       "         'arm': 11,\n",
       "         'b69': 1,\n",
       "         'street,': 16,\n",
       "         'questions': 66,\n",
       "         'syspro': 1,\n",
       "         'rattle': 2,\n",
       "         'wolters': 11,\n",
       "         '185': 4,\n",
       "         'acknowledgment': 3,\n",
       "         'overtime,': 1,\n",
       "         'duo': 2,\n",
       "         'data.': 348,\n",
       "         'osx,': 11,\n",
       "         'gfk': 1,\n",
       "         'performance.': 73,\n",
       "         'watford,': 4,\n",
       "         'topic.': 1,\n",
       "         'neon': 2,\n",
       "         'rig.': 1,\n",
       "         'approx.': 3,\n",
       "         'impacts': 36,\n",
       "         'hydrocarbon': 3,\n",
       "         \"lynch's\": 1,\n",
       "         'see': 84,\n",
       "         'projects::1': 1,\n",
       "         'hangovers.': 1,\n",
       "         'motions,': 7,\n",
       "         'vba.': 6,\n",
       "         'hammersmith': 1,\n",
       "         'enterprise.': 4,\n",
       "         'rule\"': 1,\n",
       "         'assisting': 179,\n",
       "         'appropriated': 1,\n",
       "         'managementchange': 1,\n",
       "         'notations': 2,\n",
       "         'e1071': 2,\n",
       "         'koya': 3,\n",
       "         '2008.,': 4,\n",
       "         'ap.': 1,\n",
       "         'tpl,': 2,\n",
       "         'toyotaitc': 1,\n",
       "         'ex.': 2,\n",
       "         'deadline.': 3,\n",
       "         'springfield,': 5,\n",
       "         'refurbishment': 2,\n",
       "         'focus.,': 1,\n",
       "         'sema': 2,\n",
       "         'bmw,': 2,\n",
       "         'msp,': 4,\n",
       "         'portuguese,': 5,\n",
       "         'merchandising': 20,\n",
       "         'finra': 4,\n",
       "         'cisg': 1,\n",
       "         'concurrently,': 1,\n",
       "         'uspa,': 1,\n",
       "         'supporttechnical': 1,\n",
       "         'interviewing,': 16,\n",
       "         'conference,,': 1,\n",
       "         'systema': 1,\n",
       "         'jds': 1,\n",
       "         'mathematician.': 1,\n",
       "         'iiotindustrial': 1,\n",
       "         'interdepartmental': 4,\n",
       "         'saop': 1,\n",
       "         'ethical,': 1,\n",
       "         'popularity': 3,\n",
       "         'uk-analysed': 1,\n",
       "         'ims,': 12,\n",
       "         'scorch': 1,\n",
       "         'lpo': 1,\n",
       "         'account:': 1,\n",
       "         'altiris': 1,\n",
       "         \"owners'\": 1,\n",
       "         'mindedness': 1,\n",
       "         'environment:': 58,\n",
       "         'excellente': 1,\n",
       "         'officeweb': 1,\n",
       "         'self-taught': 5,\n",
       "         'sensors.,': 3,\n",
       "         'skillsautomation': 1,\n",
       "         'site': 235,\n",
       "         'weill': 2,\n",
       "         'keras,': 14,\n",
       "         'true': 25,\n",
       "         'aggregated,': 4,\n",
       "         'orthopedics,': 1,\n",
       "         'multi-user': 2,\n",
       "         'actfocus': 1,\n",
       "         'lindsey': 4,\n",
       "         'rt-pcr': 2,\n",
       "         'user:': 6,\n",
       "         'awq': 3,\n",
       "         'snappy': 1,\n",
       "         'bottom-line': 1,\n",
       "         'tidying,': 2,\n",
       "         'tures': 1,\n",
       "         'production,': 48,\n",
       "         'stackpts': 1,\n",
       "         'clothes': 2,\n",
       "         'agreements,\"': 2,\n",
       "         'behavior': 91,\n",
       "         'acavitand': 1,\n",
       "         'software-testing': 1,\n",
       "         'naif': 1,\n",
       "         'mapreduce,': 50,\n",
       "         'borders.': 1,\n",
       "         'serversmanaging': 1,\n",
       "         'asset-backed': 1,\n",
       "         'multi-site': 10,\n",
       "         'xinhua': 2,\n",
       "         'joininguniversity': 1,\n",
       "         'farmers,': 1,\n",
       "         'nppi': 1,\n",
       "         'bi-function': 1,\n",
       "         'snef': 1,\n",
       "         'acomplex': 1,\n",
       "         'nctl': 1,\n",
       "         \"weren't\": 2,\n",
       "         'cloudera': 15,\n",
       "         'ment.,': 1,\n",
       "         'travel,telecom,': 1,\n",
       "         '\"3\"': 2,\n",
       "         'lives': 13,\n",
       "         'guild,': 1,\n",
       "         'strangford,': 2,\n",
       "         'trustworthy.': 1,\n",
       "         'avg': 1,\n",
       "         'al-furqan': 2,\n",
       "         'fix': 57,\n",
       "         \"mate'\": 1,\n",
       "         'balancing.': 2,\n",
       "         'poster:': 8,\n",
       "         'oscillations': 1,\n",
       "         'wearing': 2,\n",
       "         'reports,oid,': 1,\n",
       "         'no-sqllanguages': 1,\n",
       "         'accountscommunicated': 1,\n",
       "         'pico': 1,\n",
       "         'inefficiencies': 16,\n",
       "         'parameter.': 6,\n",
       "         'salse': 1,\n",
       "         'picsy': 1,\n",
       "         'software,': 125,\n",
       "         'testrail,': 3,\n",
       "         'retrieval,': 13,\n",
       "         'vendorshr': 1,\n",
       "         'recording.': 1,\n",
       "         'genomics:': 2,\n",
       "         'bassenthwaite': 2,\n",
       "         'brick': 1,\n",
       "         'actually': 2,\n",
       "         'pervasive': 10,\n",
       "         'internationalcenter': 2,\n",
       "         'aaa,': 2,\n",
       "         '1\"': 1,\n",
       "         'context.': 1,\n",
       "         'ipo,': 1,\n",
       "         'encompassed': 3,\n",
       "         'ssis.,': 3,\n",
       "         'gpu,': 1,\n",
       "         'linuxsoftwarems': 1,\n",
       "         'novel': 82,\n",
       "         'estudiantil': 1,\n",
       "         'cogent': 2,\n",
       "         'theirpurchasing': 1,\n",
       "         'eda,': 1,\n",
       "         'amenable': 1,\n",
       "         'knocking': 1,\n",
       "         'redundancies.': 2,\n",
       "         'wessex': 2,\n",
       "         'loughborough': 10,\n",
       "         'mole': 2,\n",
       "         'communicates': 8,\n",
       "         'surpassed.': 1,\n",
       "         \"victoria's,\": 2,\n",
       "         'autocad,': 21,\n",
       "         'ppaca': 5,\n",
       "         'importance.': 3,\n",
       "         'arcsde,': 1,\n",
       "         'hematology,': 2,\n",
       "         'pre-defined': 3,\n",
       "         'stations': 12,\n",
       "         'book-keeping': 1,\n",
       "         'vysya': 2,\n",
       "         'americold': 1,\n",
       "         '11g,10g,': 1,\n",
       "         'groups,,': 1,\n",
       "         'hazid,': 3,\n",
       "         'costumer': 12,\n",
       "         'responsibilitieshelping': 1,\n",
       "         'aptos,': 1,\n",
       "         'faults': 15,\n",
       "         'aggregators': 1,\n",
       "         \"superior's\": 1,\n",
       "         'disbursement,': 1,\n",
       "         'whomever': 1,\n",
       "         'physio': 2,\n",
       "         'huvecs': 1,\n",
       "         '21cfr11': 2,\n",
       "         'thoughtfuland': 1,\n",
       "         'slope': 2,\n",
       "         'school': 613,\n",
       "         'photonics,': 3,\n",
       "         'voluntary,': 3,\n",
       "         'markets,': 29,\n",
       "         ',9.': 1,\n",
       "         'banisafar,': 1,\n",
       "         'prm': 1,\n",
       "         'overhauled': 3,\n",
       "         'sabbatical': 3,\n",
       "         'iraadd': 1,\n",
       "         'letters': 21,\n",
       "         'itself.': 2,\n",
       "         'drug': 210,\n",
       "         'al-jafiliya': 1,\n",
       "         'omegamon,': 1,\n",
       "         'tt': 2,\n",
       "         'bridgeton,': 3,\n",
       "         'ncr': 2,\n",
       "         'seat.': 1,\n",
       "         'reportbenefits:': 1,\n",
       "         'forests': 13,\n",
       "         'accountant,': 26,\n",
       "         'decide': 16,\n",
       "         'arguement': 1,\n",
       "         'define,fulfil': 1,\n",
       "         'fee,': 2,\n",
       "         'outfacing': 1,\n",
       "         'sync': 9,\n",
       "         'riskand': 1,\n",
       "         'post-qualification': 1,\n",
       "         'franchise': 8,\n",
       "         'tyne,': 7,\n",
       "         'cssdatabases': 1,\n",
       "         'tissues,': 1,\n",
       "         'concussion': 2,\n",
       "         'biginsights,': 1,\n",
       "         'pfds': 1,\n",
       "         'mappingtelecommunication': 1,\n",
       "         'confidentusing': 1,\n",
       "         'immunoassay-based': 1,\n",
       "         'monterrey': 1,\n",
       "         '15-may': 2,\n",
       "         'related.': 2,\n",
       "         'taken.': 1,\n",
       "         'iit-kgp': 1,\n",
       "         'o-bis-e': 1,\n",
       "         '9i,': 46,\n",
       "         'geodemographic': 2,\n",
       "         'facility,': 13,\n",
       "         'pullsystems': 1,\n",
       "         'scratch.': 6,\n",
       "         'fi': 3,\n",
       "         'coatings': 8,\n",
       "         'efficiencies,': 3,\n",
       "         'plane.': 2,\n",
       "         'tounderstand': 1,\n",
       "         'elearning': 4,\n",
       "         'risk-prone': 1,\n",
       "         'workouts.,': 1,\n",
       "         'jails.': 1,\n",
       "         'anxiety': 5,\n",
       "         'duplex': 1,\n",
       "         'fo': 3,\n",
       "         'm-tech': 1,\n",
       "         'railway,': 2,\n",
       "         'itself,': 1,\n",
       "         'divisionpolicy': 1,\n",
       "         \"bought'\": 1,\n",
       "         'commands.': 5,\n",
       "         'winrunner,': 16,\n",
       "         'adi': 2,\n",
       "         'york.': 1,\n",
       "         'proccluster': 1,\n",
       "         'expanded': 28,\n",
       "         'directorysmonitoring': 1,\n",
       "         'month-end': 16,\n",
       "         'covance,': 3,\n",
       "         'cognoserp': 1,\n",
       "         'description:beacon': 1,\n",
       "         'replaces': 4,\n",
       "         'meets': 34,\n",
       "         'skills:rational': 1,\n",
       "         'loans,': 22,\n",
       "         'detail.,': 1,\n",
       "         'practicesbusiness': 1,\n",
       "         'non-profits': 2,\n",
       "         'intuition': 5,\n",
       "         'roi.,': 1,\n",
       "         'resourcesn': 1,\n",
       "         'restricted': 12,\n",
       "         'weener': 1,\n",
       "         'tb': 4,\n",
       "         'epiccare': 7,\n",
       "         '.net.': 3,\n",
       "         'reformulate': 1,\n",
       "         'keeping': 116,\n",
       "         'nutritionistwellness': 1,\n",
       "         'document-reviews,': 1,\n",
       "         'asc': 8,\n",
       "         'rs-mgzno': 2,\n",
       "         'seriousness': 1,\n",
       "         'practitioner.': 3,\n",
       "         'sql,endevor,': 1,\n",
       "         'newest': 2,\n",
       "         'exact': 9,\n",
       "         'dlp': 5,\n",
       "         'pos,q80': 1,\n",
       "         'market,': 38,\n",
       "         'citrixmailenableparallels': 2,\n",
       "         'cmp': 7,\n",
       "         'buzz.': 1,\n",
       "         'fjf': 1,\n",
       "         'self-efficacy': 1,\n",
       "         'division.,': 4,\n",
       "         'navebayes,': 1,\n",
       "         'bloor': 1,\n",
       "         'open,': 3,\n",
       "         'box': 113,\n",
       "         'accela.': 1,\n",
       "         'domains-': 1,\n",
       "         'dlg': 2,\n",
       "         'discovererproject': 1,\n",
       "         'wellstar,': 2,\n",
       "         'difficult': 47,\n",
       "         'worldwide.': 10,\n",
       "         'accountability.': 3,\n",
       "         'networks': 86,\n",
       "         'restored': 1,\n",
       "         'questlanguages': 1,\n",
       "         'parametric,': 1,\n",
       "         'ii.': 4,\n",
       "         'browser,': 3,\n",
       "         'tps,': 2,\n",
       "         'finalization': 6,\n",
       "         'programproject': 2,\n",
       "         'engineers.': 8,\n",
       "         'intuitive,': 4,\n",
       "         'freeze-drying,': 1,\n",
       "         'rexx': 12,\n",
       "         'regularly': 62,\n",
       "         'pvamc-pvarf': 2,\n",
       "         'bias': 1,\n",
       "         'university.': 32,\n",
       "         'termination': 7,\n",
       "         'netting': 4,\n",
       "         'rides': 1,\n",
       "         'in-house': 95,\n",
       "         'easytrieve,': 6,\n",
       "         \"'request\": 2,\n",
       "         'visiotesting': 1,\n",
       "         'interface,': 21,\n",
       "         'bba': 6,\n",
       "         \"aug'10\": 1,\n",
       "         'pharmaceutical': 151,\n",
       "         'non-normal,': 1,\n",
       "         'leman': 1,\n",
       "         'timeframe': 3,\n",
       "         'testsuite': 1,\n",
       "         'kidderminster,': 3,\n",
       "         '2010-2014division': 1,\n",
       "         'laser-plasma': 1,\n",
       "         'probosthe': 1,\n",
       "         'pshe': 1,\n",
       "         'autonomy': 8,\n",
       "         'cameras.': 1,\n",
       "         'algorithms:': 25,\n",
       "         'played:': 4,\n",
       "         'photoshop.,': 4,\n",
       "         'basiclanguages': 1,\n",
       "         'awardsvarious': 1,\n",
       "         'internetsummary': 1,\n",
       "         'hop': 2,\n",
       "         'a-plus': 1,\n",
       "         'rfis': 1,\n",
       "         'external': 407,\n",
       "         'limitedi': 1,\n",
       "         'reputable': 4,\n",
       "         'manual.': 4,\n",
       "         'retl,': 1,\n",
       "         'ipos,': 2,\n",
       "         'waste,': 2,\n",
       "         'presentation-study': 1,\n",
       "         'drying': 3,\n",
       "         'appropriateness,': 1,\n",
       "         'worker': 51,\n",
       "         'current,': 6,\n",
       "         'resourcefulness.': 1,\n",
       "         'copybook': 1,\n",
       "         'mainframe.,': 1,\n",
       "         'epn': 1,\n",
       "         'mamsl': 1,\n",
       "         'dentaloral': 1,\n",
       "         'lucas': 1,\n",
       "         'shops.': 1,\n",
       "         'canines': 1,\n",
       "         '125': 1,\n",
       "         'apptune,': 2,\n",
       "         'amrita': 4,\n",
       "         'anticipated.': 1,\n",
       "         'filesprimary': 1,\n",
       "         'toolnetworking': 1,\n",
       "         'soci': 1,\n",
       "         'franco-belgian': 2,\n",
       "         'maths,,': 1,\n",
       "         'bitmap,': 1,\n",
       "         'in-depth': 105,\n",
       "         '330kv': 2,\n",
       "         'april2016my': 1,\n",
       "         'fort': 17,\n",
       "         'aberdeen,': 10,\n",
       "         'hpqc': 8,\n",
       "         'curation': 6,\n",
       "         'programmers': 11,\n",
       "         'patient-relations': 1,\n",
       "         'counties': 6,\n",
       "         'fpfv': 1,\n",
       "         'mealforecasting': 1,\n",
       "         'girl': 5,\n",
       "         'educated': 16,\n",
       "         'president': 39,\n",
       "         'rollouts.': 1,\n",
       "         'unreleased': 1,\n",
       "         'landsden': 1,\n",
       "         'enacted': 1,\n",
       "         'evidence-based-medicine': 1,\n",
       "         'forethought.': 1,\n",
       "         'safety.,': 1,\n",
       "         'esr': 9,\n",
       "         'changinghepatic': 1,\n",
       "         '4129-4137': 1,\n",
       "         'ameritrade': 3,\n",
       "         'vietnamese,': 2,\n",
       "         'agile-jira.,': 1,\n",
       "         'janitor': 1,\n",
       "         'implicit': 1,\n",
       "         'performer': 9,\n",
       "         'frisco,': 1,\n",
       "         'mestrenova': 3,\n",
       "         'hfo2,': 1,\n",
       "         '832': 1,\n",
       "         'domain:,': 1,\n",
       "         'earliest': 1,\n",
       "         'bangkok,': 1,\n",
       "         'blog.': 1,\n",
       "         'fieldglass,': 2,\n",
       "         'fifty': 1,\n",
       "         'drug.,': 1,\n",
       "         'reduce,': 15,\n",
       "         'nextchallenge': 1,\n",
       "         'pathogenesisthursday': 1,\n",
       "         'biochip': 1,\n",
       "         'responsibilitiesa': 1,\n",
       "         'de-normalizations.': 1,\n",
       "         '57': 1,\n",
       "         'boyce': 1,\n",
       "         'neopost,': 1,\n",
       "         'jaipur': 1,\n",
       "         'ringing': 1,\n",
       "         'zoning': 2,\n",
       "         'dow': 8,\n",
       "         'marasesti,': 2,\n",
       "         'chartscontent': 1,\n",
       "         'naples': 2,\n",
       "         'gitam': 2,\n",
       "         'softwareaccomplishmentspublish': 1,\n",
       "         'horizon': 11,\n",
       "         'memcached': 1,\n",
       "         'rotating': 6,\n",
       "         'lcc,': 2,\n",
       "         'claimants': 3,\n",
       "         'gas-infrared': 1,\n",
       "         'lensless': 2,\n",
       "         'demonstration': 17,\n",
       "         'hand-made': 1,\n",
       "         'donovan,': 2,\n",
       "         'cantonese': 2,\n",
       "         'republic': 5,\n",
       "         'marstons': 2,\n",
       "         'worksheets': 6,\n",
       "         'resolution': 207,\n",
       "         'cyber-physical': 1,\n",
       "         '2007.,': 3,\n",
       "         'tightdeadlines.': 1,\n",
       "         'inventor': 8,\n",
       "         'aksa': 2,\n",
       "         'outside': 77,\n",
       "         'racking': 3,\n",
       "         'phishing': 1,\n",
       "         'ftps,': 2,\n",
       "         'alignment': 34,\n",
       "         'falconview,': 5,\n",
       "         'agile': 894,\n",
       "         'gnrale': 2,\n",
       "         'keeping,': 6,\n",
       "         'fos': 2,\n",
       "         'clinicians': 5,\n",
       "         'achieved,': 1,\n",
       "         'attainment': 4,\n",
       "         'chosen': 13,\n",
       "         'system-integration,': 3,\n",
       "         'spotfire.': 2,\n",
       "         'progressing': 7,\n",
       "         'samples2005estrogenic': 1,\n",
       "         '12m': 1,\n",
       "         'appleto': 1,\n",
       "         'businesses:': 3,\n",
       "         'call-center': 6,\n",
       "         'caci': 8,\n",
       "         'lotterycompany': 1,\n",
       "         'humanities,': 5,\n",
       "         'september': 58,\n",
       "         'ministries,': 1,\n",
       "         'fastest': 3,\n",
       "         '\"as': 14,\n",
       "         'bsp': 5,\n",
       "         'jointing,': 1,\n",
       "         '2014,': 21,\n",
       "         'brazil': 1,\n",
       "         'projectsart': 1,\n",
       "         'universes.': 2,\n",
       "         'igcse': 2,\n",
       "         'proteases,': 1,\n",
       "         'cadburys': 2,\n",
       "         'pie': 2,\n",
       "         'prepmembrane': 1,\n",
       "         'advisors.': 3,\n",
       "         'audio-visual,': 1,\n",
       "         'hue,': 6,\n",
       "         'requiredensure': 1,\n",
       "         'primark,': 1,\n",
       "         'worklight': 2,\n",
       "         'neat': 1,\n",
       "         'that:-': 1,\n",
       "         'sealants': 1,\n",
       "         'personalize': 2,\n",
       "         'bash,': 15,\n",
       "         'ohmeda': 1,\n",
       "         'consol': 1,\n",
       "         'cdh5': 2,\n",
       "         'repurchase': 3,\n",
       "         'ptfp': 5,\n",
       "         'vlans': 2,\n",
       "         'confederations': 1,\n",
       "         'peace': 5,\n",
       "         'built.,': 1,\n",
       "         \"ufid's\": 1,\n",
       "         'fbihq': 2,\n",
       "         'toshiba,': 1,\n",
       "         'internacional,': 2,\n",
       "         'medco': 5,\n",
       "         '.nettechnologies': 1,\n",
       "         'post-treatment': 1,\n",
       "         'shoplifting': 1,\n",
       "         'kinsman': 1,\n",
       "         'dear': 3,\n",
       "         'swansea': 6,\n",
       "         'ansi.': 3,\n",
       "         'platforms,': 32,\n",
       "         'amherst': 1,\n",
       "         \"best'\": 1,\n",
       "         'jisc': 1,\n",
       "         'closure': 32,\n",
       "         'clean-up,': 1,\n",
       "         'parkinson,': 1,\n",
       "         'founder': 11,\n",
       "         'cosmoss,': 1,\n",
       "         'pipelines,': 7,\n",
       "         'systemreconcile': 1,\n",
       "         'consultancy:': 1,\n",
       "         '2005.': 12,\n",
       "         'staged': 3,\n",
       "         'reengineered': 7,\n",
       "         'priming,': 1,\n",
       "         'routines.': 2,\n",
       "         'augment': 5,\n",
       "         'surprising': 1,\n",
       "         'pgdca,': 1,\n",
       "         'slowly': 12,\n",
       "         'saving,': 2,\n",
       "         'secretarial,': 2,\n",
       "         'overcame': 3,\n",
       "         'neither': 1,\n",
       "         'managementroosevelt': 1,\n",
       "         'quarterly,': 5,\n",
       "         'rx': 9,\n",
       "         'pcr-': 1,\n",
       "         'hybridizing': 1,\n",
       "         'fluorescence': 19,\n",
       "         '\"fca': 1,\n",
       "         'increased': 153,\n",
       "         'rbc': 2,\n",
       "         'nigeria': 17,\n",
       "         'complement': 11,\n",
       "         'non--technical': 1,\n",
       "         'jan07': 1,\n",
       "         'pestle': 1,\n",
       "         'ts': 8,\n",
       "         '105': 2,\n",
       "         'cloned': 1,\n",
       "         'hattiesburg,': 2,\n",
       "         'structures1': 1,\n",
       "         'possessions': 2,\n",
       "         'lock-in': 2,\n",
       "         'superalloy': 1,\n",
       "         'olm': 1,\n",
       "         'teachers.': 4,\n",
       "         '\"secure': 1,\n",
       "         'oss,': 1,\n",
       "         'nations': 2,\n",
       "         'switch': 9,\n",
       "         'popular,': 2,\n",
       "         'mothers': 1,\n",
       "         'filled': 12,\n",
       "         'outbound': 43,\n",
       "         'replicating': 4,\n",
       "         'multi-application': 1,\n",
       "         '1,350': 1,\n",
       "         'adapters.': 2,\n",
       "         'tort': 2,\n",
       "         'microelectronic': 2,\n",
       "         'grasps': 2,\n",
       "         '999': 1,\n",
       "         'meade,': 1,\n",
       "         'studio': 169,\n",
       "         'afm,': 1,\n",
       "         'courier': 6,\n",
       "         'bsa': 17,\n",
       "         'multinationals,': 1,\n",
       "         'wickes,': 2,\n",
       "         'mlsp': 1,\n",
       "         'expended,': 2,\n",
       "         'sccm,': 4,\n",
       "         'maize': 1,\n",
       "         'athlete': 10,\n",
       "         'transformation.': 10,\n",
       "         'whereas': 2,\n",
       "         'creator.': 1,\n",
       "         'correctly.,': 1,\n",
       "         'wildlife,': 1,\n",
       "         'jig': 1,\n",
       "         'stipulates': 1,\n",
       "         'brooks': 2,\n",
       "         'node,': 1,\n",
       "         'decrypt,': 1,\n",
       "         'debts': 5,\n",
       "         'experiment,': 6,\n",
       "         'eviews,': 1,\n",
       "         'processing..': 1,\n",
       "         'highly-pressured': 1,\n",
       "         'organizationresponsibilitiesled': 1,\n",
       "         'risklink': 3,\n",
       "         'html,sql,': 1,\n",
       "         'iii': 38,\n",
       "         'myselfto': 1,\n",
       "         'caliber.': 1,\n",
       "         'cancer-targeting': 1,\n",
       "         'excel-pivot': 1,\n",
       "         'nigc': 1,\n",
       "         'c-gmp': 2,\n",
       "         '6096069010-1370mail': 6,\n",
       "         'clia,': 1,\n",
       "         'carenotes': 1,\n",
       "         'nissan,': 1,\n",
       "         'drivers': 26,\n",
       "         'therein.,': 1,\n",
       "         'transactionspep': 1,\n",
       "         'med-underwriting': 1,\n",
       "         'sslc,': 1,\n",
       "         'iptv,': 1,\n",
       "         'azurebackend:': 1,\n",
       "         'optera,': 1,\n",
       "         'micro-controller': 3,\n",
       "         'whole': 76,\n",
       "         'excitement,': 1,\n",
       "         'e-checks,': 2,\n",
       "         'ii,': 44,\n",
       "         'lesson': 17,\n",
       "         'pmis.': 1,\n",
       "         '.responsible': 2,\n",
       "         'richly': 2,\n",
       "         'mathcad.': 1,\n",
       "         'fluorescence,,': 1,\n",
       "         'food.': 2,\n",
       "         'healing': 2,\n",
       "         'competition.,': 1,\n",
       "         'createreports': 1,\n",
       "         'ssh,': 3,\n",
       "         'scripting': 104,\n",
       "         'valley': 23,\n",
       "         'programastronomerconducted': 1,\n",
       "         'mycloud': 1,\n",
       "         'ood,': 1,\n",
       "         'visits.,': 2,\n",
       "         'urbana-champaign': 1,\n",
       "         'discussed': 25,\n",
       "         'papers,': 18,\n",
       "         'specialistadept': 1,\n",
       "         'assoc.,': 1,\n",
       "         \"mapping'\": 2,\n",
       "         'sats': 5,\n",
       "         'sinceseptember': 1,\n",
       "         'box\"': 1,\n",
       "         'visualbasic,': 2,\n",
       "         'challenges:': 1,\n",
       "         'xo': 7,\n",
       "         'conducting': 305,\n",
       "         'distinctive,': 1,\n",
       "         'odot': 1,\n",
       "         'investigator': 19,\n",
       "         '-here': 1,\n",
       "         'extracts': 12,\n",
       "         'accompany': 1,\n",
       "         'retrieve': 37,\n",
       "         'skillstime': 2,\n",
       "         'mercaptans,': 1,\n",
       "         'canyon': 1,\n",
       "         'pdm': 8,\n",
       "         \"obama's\": 2,\n",
       "         'directive,': 2,\n",
       "         'colleagues.': 23,\n",
       "         'ball,': 8,\n",
       "         'mutex,': 1,\n",
       "         'jan,': 2,\n",
       "         'possible,': 4,\n",
       "         'someof': 1,\n",
       "         'divisas': 1,\n",
       "         'diplomacy.': 1,\n",
       "         'msc-engineering': 1,\n",
       "         'movement.': 1,\n",
       "         'linq,': 4,\n",
       "         'internet.': 6,\n",
       "         'insured': 8,\n",
       "         'empathy': 4,\n",
       "         'uad': 2,\n",
       "         'fidelity,': 1,\n",
       "         'ages,': 3,\n",
       "         'byproviding': 1,\n",
       "         'nim,': 1,\n",
       "         'photodetectors,': 1,\n",
       "         'andrequired': 1,\n",
       "         'interactivesessions': 1,\n",
       "         'nurse,': 6,\n",
       "         'hanergy': 2,\n",
       "         '6,7active': 2,\n",
       "         'stellar': 2,\n",
       "         'coding.': 14,\n",
       "         'skill.,': 1,\n",
       "         'missed': 4,\n",
       "         'head,': 8,\n",
       "         'phone': 98,\n",
       "         'plug-ins': 2,\n",
       "         'syracuse': 4,\n",
       "         'polypropylene': 1,\n",
       "         'joint,': 2,\n",
       "         'mobility': 9,\n",
       "         'natual': 1,\n",
       "         'whitman,': 1,\n",
       "         'cg': 2,\n",
       "         'overdue': 6,\n",
       "         'tool.': 87,\n",
       "         'searches': 9,\n",
       "         'bloods': 1,\n",
       "         '60608as': 3,\n",
       "         'analystargos': 1,\n",
       "         'medicaid': 136,\n",
       "         '1983-2002.': 1,\n",
       "         'incubator': 2,\n",
       "         'multi-tasking': 23,\n",
       "         '410-1570.,': 2,\n",
       "         'seabrook,': 1,\n",
       "         'stage': 77,\n",
       "         \"sweden's\": 1,\n",
       "         'determinenecessary': 1,\n",
       "         'macromolecules': 4,\n",
       "         'remote': 113,\n",
       "         'solvingba': 1,\n",
       "         'skillssoftware:': 2,\n",
       "         'healthconnect': 4,\n",
       "         'tam.,': 1,\n",
       "         'parameters,': 16,\n",
       "         'school.,': 1,\n",
       "         'fed': 9,\n",
       "         'proportions,': 1,\n",
       "         '1034': 1,\n",
       "         'belowprojects:1.': 1,\n",
       "         'ddx3\".': 1,\n",
       "         'frameworkstechnicalcomplete': 1,\n",
       "         'selection,': 29,\n",
       "         'burnage,': 1,\n",
       "         'logistics.,': 1,\n",
       "         'elkcloud': 1,\n",
       "         'date:': 3,\n",
       "         'differenttransformations': 1,\n",
       "         'scenarios.': 54,\n",
       "         \"'d,\": 2,\n",
       "         'jxl': 2,\n",
       "         'visualizing': 9,\n",
       "         'brighton,': 17,\n",
       "         'correa': 2,\n",
       "         'officers,': 4,\n",
       "         'quietly': 1,\n",
       "         '\"college': 1,\n",
       "         'alico': 2,\n",
       "         'systemsfor': 1,\n",
       "         'applied,': 2,\n",
       "         '\"prince': 1,\n",
       "         'sds.': 1,\n",
       "         'retro,': 1,\n",
       "         'serviceintroduced': 1,\n",
       "         'top-quality,': 1,\n",
       "         'tocondense': 1,\n",
       "         'gym-based': 1,\n",
       "         'a1but': 1,\n",
       "         'multi-conference': 1,\n",
       "         'chaska,': 1,\n",
       "         'generates': 16,\n",
       "         '50m': 2,\n",
       "         'soundness': 1,\n",
       "         'amicable': 2,\n",
       "         'mobile-': 2,\n",
       "         'eclipsestrengths': 1,\n",
       "         'html5,': 27,\n",
       "         'synthesis,': 12,\n",
       "         'ibm.': 2,\n",
       "         'validations,': 6,\n",
       "         'suppliers': 83,\n",
       "         'tanabe-seiyaku': 2,\n",
       "         'buttons,': 1,\n",
       "         'rfi': 4,\n",
       "         'diplomatic,': 1,\n",
       "         'data-mining': 2,\n",
       "         'servicecomputerstypingmedicationstockinginsurancestrong': 1,\n",
       "         'competenciesleadership': 2,\n",
       "         '454': 3,\n",
       "         'theories': 9,\n",
       "         'principal': 145,\n",
       "         'relished.,': 1,\n",
       "         'pre-admission': 1,\n",
       "         'diplomas.': 1,\n",
       "         'singer,': 1,\n",
       "         'sintering.': 1,\n",
       "         '2004.': 1,\n",
       "         'nemours': 1,\n",
       "         'focused.,': 1,\n",
       "         'pkms,': 2,\n",
       "         'hypotheses': 7,\n",
       "         'workstation,': 1,\n",
       "         'resourceful.': 1,\n",
       "         'jul.': 1,\n",
       "         'forest.': 8,\n",
       "         'zhang': 1,\n",
       "         'transcribed': 4,\n",
       "         'therapy.': 3,\n",
       "         'results-': 5,\n",
       "         '-mail': 2,\n",
       "         'open-source': 9,\n",
       "         'ames,': 3,\n",
       "         'campaign,': 4,\n",
       "         'isdn,': 5,\n",
       "         '5': 284,\n",
       "         '\"autism': 1,\n",
       "         'dressbarn,': 1,\n",
       "         'cycles': 27,\n",
       "         'undergo': 2,\n",
       "         'websites': 41,\n",
       "         'bagging,': 4,\n",
       "         'grads': 1,\n",
       "         'taleo': 1,\n",
       "         'systematic,': 1,\n",
       "         'thru': 12,\n",
       "         'servicemerrill': 1,\n",
       "         'bowtie2,': 2,\n",
       "         'tiny': 1,\n",
       "         'vcm': 1,\n",
       "         'hsbcnet': 6,\n",
       "         'certificatesbsc': 1,\n",
       "         'metropolitan': 58,\n",
       "         'competencescommunicationjennifer': 1,\n",
       "         'ironspeed': 3,\n",
       "         'anomalies': 26,\n",
       "         'non-emailable,': 1,\n",
       "         'tightening': 1,\n",
       "         'semantically': 2,\n",
       "         \"joseph's\": 2,\n",
       "         'employeesdaily': 1,\n",
       "         'song': 3,\n",
       "         'pna': 1,\n",
       "         'overnight.': 1,\n",
       "         'universities.': 2,\n",
       "         'clipboard': 1,\n",
       "         'livestock': 1,\n",
       "         'less-fortunate': 1,\n",
       "         'accrue': 1,\n",
       "         'teachercarry': 1,\n",
       "         'commute': 2,\n",
       "         'charge-off': 1,\n",
       "         'small-': 1,\n",
       "         'unipoint': 1,\n",
       "         't-sne,': 1,\n",
       "         'feedbackdelivered': 1,\n",
       "         'totals': 3,\n",
       "         'partnersoverhauled': 1,\n",
       "         'systems\",': 2,\n",
       "         '2d': 14,\n",
       "         'managementmy': 1,\n",
       "         \"e's\": 1,\n",
       "         'pcp': 3,\n",
       "         'ixi': 1,\n",
       "         'allows': 63,\n",
       "         'shell.': 2,\n",
       "         'analystduties': 1,\n",
       "         'basicbrowser': 1,\n",
       "         'quantification,': 1,\n",
       "         'tasks-': 1,\n",
       "         '2012': 88,\n",
       "         'ages.': 4,\n",
       "         'msword': 2,\n",
       "         'ibm-websphere,': 2,\n",
       "         'bfrench': 1,\n",
       "         'bar.': 1,\n",
       "         'boulder,': 6,\n",
       "         'defense-': 1,\n",
       "         'selectivity,': 2,\n",
       "         'ments.': 1,\n",
       "         'interline': 1,\n",
       "         'greece.,': 1,\n",
       "         'msigdb,': 2,\n",
       "         'bend,': 1,\n",
       "         'fischer,': 1,\n",
       "         ...})"
      ]
     },
     "execution_count": 530,
     "metadata": {},
     "output_type": "execute_result"
    }
   ],
   "source": [
    "vocabcount"
   ]
  },
  {
   "cell_type": "markdown",
   "metadata": {},
   "source": [
    "# Word Embedding"
   ]
  },
  {
   "cell_type": "markdown",
   "metadata": {},
   "source": [
    "## read GloVe"
   ]
  },
  {
   "cell_type": "code",
   "execution_count": 478,
   "metadata": {
    "collapsed": false
   },
   "outputs": [
    {
     "name": "stdout",
     "output_type": "stream",
     "text": [
      "unzip:  cannot find or open /home/ubuntu/.keras/datasets//home/ubuntu/.keras/datasets/glove.6B.zip, /home/ubuntu/.keras/datasets//home/ubuntu/.keras/datasets/glove.6B.zip.zip or /home/ubuntu/.keras/datasets//home/ubuntu/.keras/datasets/glove.6B.zip.ZIP.\r\n"
     ]
    }
   ],
   "source": [
    "from keras.utils.data_utils import get_file\n",
    "fname = 'glove.6B.%dd.txt'%embedding_dim\n",
    "import os\n",
    "datadir_base = os.path.expanduser(os.path.join('~', '.keras'))\n",
    "if not os.access(datadir_base, os.W_OK):\n",
    "    datadir_base = os.path.join('/tmp', '.keras')\n",
    "datadir = os.path.join(datadir_base, 'datasets')\n",
    "glove_name = os.path.join(datadir, fname)\n",
    "if not os.path.exists(glove_name):\n",
    "    path = 'glove.6B'\n",
    "    path = get_file(path, origin=\"http://nlp.stanford.edu/data/glove.6B.zip\")\n",
    "    !unzip {datadir}/{path}"
   ]
  },
  {
   "cell_type": "code",
   "execution_count": 486,
   "metadata": {
    "collapsed": false
   },
   "outputs": [
    {
     "data": {
      "text/plain": [
       "'/home/ubuntu/.keras/datasets/glove.6B.100d.txt'"
      ]
     },
     "execution_count": 486,
     "metadata": {},
     "output_type": "execute_result"
    }
   ],
   "source": [
    "glove_name"
   ]
  },
  {
   "cell_type": "code",
   "execution_count": 487,
   "metadata": {
    "collapsed": false
   },
   "outputs": [
    {
     "data": {
      "text/plain": [
       "'400000'"
      ]
     },
     "execution_count": 487,
     "metadata": {},
     "output_type": "execute_result"
    }
   ],
   "source": [
    "glove_n_symbols = !wc -l {glove_name}\n",
    "glove_n_symbols = (glove_n_symbols[0].split()[0])\n",
    "glove_n_symbols"
   ]
  },
  {
   "cell_type": "code",
   "execution_count": 503,
   "metadata": {
    "collapsed": false
   },
   "outputs": [],
   "source": [
    "import numpy as np\n",
    "glove_index_dict = {}\n",
    "glove_embedding_weights = np.empty((int(glove_n_symbols), embedding_dim))\n",
    "globale_scale=.1\n",
    "with open(glove_name, 'r') as fp:\n",
    "    i = 0\n",
    "    for l in fp:\n",
    "        l = l.strip().split()\n",
    "        w = l[0]\n",
    "        glove_index_dict[w] = i\n",
    "        glove_embedding_weights[i,:] = list(map(float,l[1:]))\n",
    "        i += 1\n",
    "glove_embedding_weights *= globale_scale"
   ]
  },
  {
   "cell_type": "code",
   "execution_count": 504,
   "metadata": {
    "collapsed": false
   },
   "outputs": [
    {
     "data": {
      "text/plain": [
       "0.040815727600190289"
      ]
     },
     "execution_count": 504,
     "metadata": {},
     "output_type": "execute_result"
    }
   ],
   "source": [
    "glove_embedding_weights.std()"
   ]
  },
  {
   "cell_type": "code",
   "execution_count": 506,
   "metadata": {
    "collapsed": false
   },
   "outputs": [],
   "source": [
    "for w,i in glove_index_dict.items():\n",
    "    w = w.lower()\n",
    "    if w not in glove_index_dict:\n",
    "        glove_index_dict[w] = i"
   ]
  },
  {
   "cell_type": "markdown",
   "metadata": {},
   "source": [
    "## embedding matrix"
   ]
  },
  {
   "cell_type": "markdown",
   "metadata": {},
   "source": [
    "use GloVe to initialize embedding matrix"
   ]
  },
  {
   "cell_type": "code",
   "execution_count": 510,
   "metadata": {
    "collapsed": false
   },
   "outputs": [
    {
     "name": "stdout",
     "output_type": "stream",
     "text": [
      "random-embedding/glove scale 0.0706949139514 std 0.0408138249575\n"
     ]
    },
    {
     "ename": "KeyError",
     "evalue": "2",
     "output_type": "error",
     "traceback": [
      "\u001b[0;31m---------------------------------------------------------------------------\u001b[0m",
      "\u001b[0;31mKeyError\u001b[0m                                  Traceback (most recent call last)",
      "\u001b[0;32m<ipython-input-510-674adb6209ad>\u001b[0m in \u001b[0;36m<module>\u001b[0;34m()\u001b[0m\n\u001b[1;32m     10\u001b[0m \u001b[0mc\u001b[0m \u001b[0;34m=\u001b[0m \u001b[0;36m0\u001b[0m\u001b[0;34m\u001b[0m\u001b[0m\n\u001b[1;32m     11\u001b[0m \u001b[0;32mfor\u001b[0m \u001b[0mi\u001b[0m \u001b[0;32min\u001b[0m \u001b[0mrange\u001b[0m\u001b[0;34m(\u001b[0m\u001b[0mvocab_size\u001b[0m\u001b[0;34m)\u001b[0m\u001b[0;34m:\u001b[0m\u001b[0;34m\u001b[0m\u001b[0m\n\u001b[0;32m---> 12\u001b[0;31m     \u001b[0mw\u001b[0m \u001b[0;34m=\u001b[0m \u001b[0midx2word\u001b[0m\u001b[0;34m[\u001b[0m\u001b[0mi\u001b[0m\u001b[0;34m]\u001b[0m\u001b[0;34m\u001b[0m\u001b[0m\n\u001b[0m\u001b[1;32m     13\u001b[0m     \u001b[0mg\u001b[0m \u001b[0;34m=\u001b[0m \u001b[0mglove_index_dict\u001b[0m\u001b[0;34m.\u001b[0m\u001b[0mget\u001b[0m\u001b[0;34m(\u001b[0m\u001b[0mw\u001b[0m\u001b[0;34m,\u001b[0m \u001b[0mglove_index_dict\u001b[0m\u001b[0;34m.\u001b[0m\u001b[0mget\u001b[0m\u001b[0;34m(\u001b[0m\u001b[0mw\u001b[0m\u001b[0;34m.\u001b[0m\u001b[0mlower\u001b[0m\u001b[0;34m(\u001b[0m\u001b[0;34m)\u001b[0m\u001b[0;34m)\u001b[0m\u001b[0;34m)\u001b[0m\u001b[0;34m\u001b[0m\u001b[0m\n\u001b[1;32m     14\u001b[0m     \u001b[0;32mif\u001b[0m \u001b[0mg\u001b[0m \u001b[0;32mis\u001b[0m \u001b[0;32mNone\u001b[0m \u001b[0;32mand\u001b[0m \u001b[0mw\u001b[0m\u001b[0;34m.\u001b[0m\u001b[0mstartswith\u001b[0m\u001b[0;34m(\u001b[0m\u001b[0;34m'#'\u001b[0m\u001b[0;34m)\u001b[0m\u001b[0;34m:\u001b[0m \u001b[0;31m# glove has no hastags (I think...)\u001b[0m\u001b[0;34m\u001b[0m\u001b[0m\n",
      "\u001b[0;31mKeyError\u001b[0m: 2"
     ]
    }
   ],
   "source": [
    "\n",
    "# generate random embedding with same scale as glove\n",
    "np.random.seed(seed)\n",
    "shape = (vocab_size, embedding_dim)\n",
    "scale = glove_embedding_weights.std()*np.sqrt(12)/2 # uniform and not normal\n",
    "embedding = np.random.uniform(low=-scale, high=scale, size=shape)\n",
    "print('random-embedding/glove scale', scale, 'std', embedding.std())\n",
    "\n",
    "# copy from glove weights of words that appear in our short vocabulary (idx2word)\n",
    "c = 0\n",
    "for i in range(vocab_size):\n",
    "    w = idx2word[i]\n",
    "    g = glove_index_dict.get(w, glove_index_dict.get(w.lower()))\n",
    "    if g is None and w.startswith('#'): # glove has no hastags (I think...)\n",
    "        w = w[1:]\n",
    "        g = glove_index_dict.get(w, glove_index_dict.get(w.lower()))\n",
    "    if g is not None:\n",
    "        embedding[i,:] = glove_embedding_weights[g,:]\n",
    "        c+=1\n",
    "print('number of tokens, in small vocab, found in glove and copied to embedding', c,c/float(vocab_size))"
   ]
  },
  {
   "cell_type": "markdown",
   "metadata": {},
   "source": [
    "lots of word in the full vocabulary (word2idx) are outside `vocab_size`.\n",
    "Build an alterantive which will map them to their closest match in glove but only if the match\n",
    "is good enough (cos distance above `glove_thr`)"
   ]
  },
  {
   "cell_type": "code",
   "execution_count": 531,
   "metadata": {
    "collapsed": true
   },
   "outputs": [],
   "source": [
    "glove_thr = 0.5"
   ]
  },
  {
   "cell_type": "code",
   "execution_count": 532,
   "metadata": {
    "collapsed": true
   },
   "outputs": [],
   "source": [
    "word2glove = {}\n",
    "for w in word2idx:\n",
    "    if w in glove_index_dict:\n",
    "        g = w\n",
    "    elif w.lower() in glove_index_dict:\n",
    "        g = w.lower()\n",
    "    elif w.startswith('#') and w[1:] in glove_index_dict:\n",
    "        g = w[1:]\n",
    "    elif w.startswith('#') and w[1:].lower() in glove_index_dict:\n",
    "        g = w[1:].lower()\n",
    "    else:\n",
    "        continue\n",
    "    word2glove[w] = g"
   ]
  },
  {
   "cell_type": "markdown",
   "metadata": {},
   "source": [
    "for every word outside the embedding matrix find the closest word inside the mebedding matrix.\n",
    "Use cos distance of GloVe vectors.\n",
    "\n",
    "Allow for the last `nb_unknown_words` words inside the embedding matrix to be considered to be outside.\n",
    "Dont accept distances below `glove_thr`"
   ]
  },
  {
   "cell_type": "code",
   "execution_count": 535,
   "metadata": {
    "collapsed": false
   },
   "outputs": [
    {
     "name": "stdout",
     "output_type": "stream",
     "text": [
      "# of glove substitutes found 0\n"
     ]
    }
   ],
   "source": [
    "normed_embedding = embedding/np.array([np.sqrt(np.dot(gweight,gweight)) for gweight in embedding])[:,None]\n",
    "\n",
    "nb_unknown_words = 100\n",
    "\n",
    "glove_match = []\n",
    "for w,idx in word2idx.items():\n",
    "    if idx >= vocab_size-nb_unknown_words and w.isalpha() and w in word2glove:\n",
    "        gidx = glove_index_dict[word2glove[w]]\n",
    "        gweight = glove_embedding_weights[gidx,:].copy()\n",
    "        # find row in embedding that has the highest cos score with gweight\n",
    "        gweight /= np.sqrt(np.dot(gweight,gweight))\n",
    "        score = np.dot(normed_embedding[:vocab_size-nb_unknown_words], gweight)\n",
    "        while True:\n",
    "            embedding_idx = score.argmax()\n",
    "            s = score[embedding_idx]\n",
    "            if s < glove_thr:\n",
    "                break\n",
    "            if idx2word[embedding_idx] in word2glove :\n",
    "                glove_match.append((w, embedding_idx, s)) \n",
    "                break\n",
    "            score[embedding_idx] = -1\n",
    "glove_match.sort(key = lambda x: -x[2])\n",
    "print('# of glove substitutes found', len(glove_match))"
   ]
  },
  {
   "cell_type": "markdown",
   "metadata": {},
   "source": [
    "manually check that the worst substitutions we are going to do are good enough"
   ]
  },
  {
   "cell_type": "code",
   "execution_count": 537,
   "metadata": {
    "collapsed": false
   },
   "outputs": [],
   "source": [
    "for orig, sub, score in glove_match[-10:]:\n",
    "    print(score, orig,'=>', idx2word[sub])"
   ]
  },
  {
   "cell_type": "markdown",
   "metadata": {},
   "source": [
    "build a lookup table of index of outside words to index of inside words"
   ]
  },
  {
   "cell_type": "code",
   "execution_count": 538,
   "metadata": {
    "collapsed": true
   },
   "outputs": [],
   "source": [
    "glove_idx2idx = dict((word2idx[w],embedding_idx) for  w, embedding_idx, _ in glove_match)"
   ]
  },
  {
   "cell_type": "markdown",
   "metadata": {},
   "source": [
    "# Data"
   ]
  },
  {
   "cell_type": "code",
   "execution_count": 539,
   "metadata": {
    "collapsed": false
   },
   "outputs": [
    {
     "ename": "AttributeError",
     "evalue": "'list' object has no attribute 'split'",
     "output_type": "error",
     "traceback": [
      "\u001b[0;31m---------------------------------------------------------------------------\u001b[0m",
      "\u001b[0;31mAttributeError\u001b[0m                            Traceback (most recent call last)",
      "\u001b[0;32m<ipython-input-539-b22fa785a1a9>\u001b[0m in \u001b[0;36m<module>\u001b[0;34m()\u001b[0m\n\u001b[0;32m----> 1\u001b[0;31m \u001b[0mY\u001b[0m \u001b[0;34m=\u001b[0m \u001b[0;34m[\u001b[0m\u001b[0;34m[\u001b[0m\u001b[0mword2idx\u001b[0m\u001b[0;34m[\u001b[0m\u001b[0mtoken\u001b[0m\u001b[0;34m]\u001b[0m \u001b[0;32mfor\u001b[0m \u001b[0mtoken\u001b[0m \u001b[0;32min\u001b[0m \u001b[0mheadline\u001b[0m\u001b[0;34m.\u001b[0m\u001b[0msplit\u001b[0m\u001b[0;34m(\u001b[0m\u001b[0;34m)\u001b[0m\u001b[0;34m]\u001b[0m \u001b[0;32mfor\u001b[0m \u001b[0mheadline\u001b[0m \u001b[0;32min\u001b[0m \u001b[0mheads\u001b[0m\u001b[0;34m]\u001b[0m\u001b[0;34m\u001b[0m\u001b[0m\n\u001b[0m\u001b[1;32m      2\u001b[0m \u001b[0mlen\u001b[0m\u001b[0;34m(\u001b[0m\u001b[0mY\u001b[0m\u001b[0;34m)\u001b[0m\u001b[0;34m\u001b[0m\u001b[0m\n",
      "\u001b[0;32m<ipython-input-539-b22fa785a1a9>\u001b[0m in \u001b[0;36m<listcomp>\u001b[0;34m(.0)\u001b[0m\n\u001b[0;32m----> 1\u001b[0;31m \u001b[0mY\u001b[0m \u001b[0;34m=\u001b[0m \u001b[0;34m[\u001b[0m\u001b[0;34m[\u001b[0m\u001b[0mword2idx\u001b[0m\u001b[0;34m[\u001b[0m\u001b[0mtoken\u001b[0m\u001b[0;34m]\u001b[0m \u001b[0;32mfor\u001b[0m \u001b[0mtoken\u001b[0m \u001b[0;32min\u001b[0m \u001b[0mheadline\u001b[0m\u001b[0;34m.\u001b[0m\u001b[0msplit\u001b[0m\u001b[0;34m(\u001b[0m\u001b[0;34m)\u001b[0m\u001b[0;34m]\u001b[0m \u001b[0;32mfor\u001b[0m \u001b[0mheadline\u001b[0m \u001b[0;32min\u001b[0m \u001b[0mheads\u001b[0m\u001b[0;34m]\u001b[0m\u001b[0;34m\u001b[0m\u001b[0m\n\u001b[0m\u001b[1;32m      2\u001b[0m \u001b[0mlen\u001b[0m\u001b[0;34m(\u001b[0m\u001b[0mY\u001b[0m\u001b[0;34m)\u001b[0m\u001b[0;34m\u001b[0m\u001b[0m\n",
      "\u001b[0;31mAttributeError\u001b[0m: 'list' object has no attribute 'split'"
     ]
    }
   ],
   "source": [
    "Y = [[word2idx[token] for token in headline.split()] for headline in heads]\n",
    "len(Y)"
   ]
  },
  {
   "cell_type": "code",
   "execution_count": 51,
   "metadata": {
    "collapsed": false
   },
   "outputs": [
    {
     "data": {
      "image/png": "[encoded data removed]",
      "text/plain": [
       "<matplotlib.figure.Figure at 0x137aad710>"
      ]
     },
     "metadata": {},
     "output_type": "display_data"
    }
   ],
   "source": [
    "plt.hist(map(len,Y),bins=50);"
   ]
  },
  {
   "cell_type": "code",
   "execution_count": 52,
   "metadata": {
    "collapsed": false
   },
   "outputs": [
    {
     "data": {
      "text/plain": [
       "684114"
      ]
     },
     "execution_count": 52,
     "metadata": {},
     "output_type": "execute_result"
    }
   ],
   "source": [
    "X = [[word2idx[token] for token in d.split()] for d in desc]\n",
    "len(X)"
   ]
  },
  {
   "cell_type": "code",
   "execution_count": 53,
   "metadata": {
    "collapsed": false,
    "scrolled": true
   },
   "outputs": [
    {
     "data": {
      "image/png": "[encoded data removed]",
      "text/plain": [
       "<matplotlib.figure.Figure at 0x110751d50>"
      ]
     },
     "metadata": {},
     "output_type": "display_data"
    }
   ],
   "source": [
    "plt.hist(map(len,X),bins=50);"
   ]
  },
  {
   "cell_type": "code",
   "execution_count": 54,
   "metadata": {
    "collapsed": false
   },
   "outputs": [],
   "source": [
    "import cPickle as pickle\n",
    "with open('data/%s.pkl'%FN,'wb') as fp:\n",
    "    pickle.dump((embedding, idx2word, word2idx, glove_idx2idx),fp,-1)"
   ]
  },
  {
   "cell_type": "code",
   "execution_count": 4,
   "metadata": {
    "collapsed": false
   },
   "outputs": [],
   "source": [
    "import cPickle as pickle\n",
    "with open('data/%s.data.pkl'%FN,'wb') as fp:\n",
    "    pickle.dump((X,Y),fp,-1)"
   ]
  }
 ],
 "metadata": {
  "kernelspec": {
   "display_name": "Python 3",
   "language": "python",
   "name": "python3"
  },
  "language_info": {
   "codemirror_mode": {
    "name": "ipython",
    "version": 3
   },
   "file_extension": ".py",
   "mimetype": "text/x-python",
   "name": "python",
   "nbconvert_exporter": "python",
   "pygments_lexer": "ipython3",
   "version": "3.5.2"
  }
 },
 "nbformat": 4,
 "nbformat_minor": 0
}
