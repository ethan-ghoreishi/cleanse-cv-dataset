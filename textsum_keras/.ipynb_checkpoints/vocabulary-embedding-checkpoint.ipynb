{
 "cells": [
  {
   "cell_type": "code",
   "execution_count": 1,
   "metadata": {
    "collapsed": false
   },
   "outputs": [
    {
     "name": "stderr",
     "output_type": "stream",
     "text": [
      "Using TensorFlow backend.\n"
     ]
    }
   ],
   "source": [
    "import psycopg2\n",
    "import pandas as pd\n",
    "import numpy as np\n",
    "\n",
    "import re\n",
    "import nltk\n",
    "from nltk.corpus import stopwords\n",
    "from textblob import blob, Blobber, TextBlob, Sentence, Word, WordList, tokenizers, sentiments, taggers, parsers\n",
    "\n",
    "import keras"
   ]
  },
  {
   "cell_type": "code",
   "execution_count": 2,
   "metadata": {
    "collapsed": true
   },
   "outputs": [],
   "source": [
    "con = psycopg2.connect(dbname=\"skillsdb\",host=\"dw-instance.cbrlhmbtfrqg.eu-west-2.redshift.amazonaws.com\"\n",
    "                ,port=\"5439\",user=\"masteruser\", password=\"Ehgh1363\")\n",
    "curs = con.cursor()"
   ]
  },
  {
   "cell_type": "code",
   "execution_count": 5,
   "metadata": {
    "collapsed": true
   },
   "outputs": [],
   "source": [
    "# import all data from redshift and insert into a dataframe\n",
    "\n",
    "data = pd.read_sql_query('''select distinct cv.user_id, cv_section_attribute.name,\n",
    "cv.value_char, cv.value_timestamp from cv_section_attribute \n",
    "left join cv on cv_section_attribute.id=cv.cv_section_attribute_id''',con)"
   ]
  },
  {
   "cell_type": "code",
   "execution_count": 6,
   "metadata": {
    "collapsed": true
   },
   "outputs": [],
   "source": [
    "# # include specific CV attributes\n",
    "# data = data[data['name'].isin(['locale','name','summary','headline',\n",
    "#                                      'degree','school','admit_year','grad_year',\n",
    "#                                      'company',  'title',  'work_location',  \n",
    "#                                      'start_date','end_date', 'description',\n",
    "#                                      'award',\n",
    "#                                      'publication', \n",
    "#                                      'additional_info', \n",
    "#                                      'skill'])]"
   ]
  },
  {
   "cell_type": "code",
   "execution_count": 7,
   "metadata": {
    "collapsed": false
   },
   "outputs": [
    {
     "data": {
      "text/html": [
       "<div>\n",
       "<style>\n",
       "    .dataframe thead tr:only-child th {\n",
       "        text-align: right;\n",
       "    }\n",
       "\n",
       "    .dataframe thead th {\n",
       "        text-align: left;\n",
       "    }\n",
       "\n",
       "    .dataframe tbody tr th {\n",
       "        vertical-align: top;\n",
       "    }\n",
       "</style>\n",
       "<table border=\"1\" class=\"dataframe\">\n",
       "  <thead>\n",
       "    <tr style=\"text-align: right;\">\n",
       "      <th></th>\n",
       "      <th>user_id</th>\n",
       "      <th>name</th>\n",
       "      <th>value_char</th>\n",
       "      <th>value_timestamp</th>\n",
       "    </tr>\n",
       "  </thead>\n",
       "  <tbody>\n",
       "    <tr>\n",
       "      <th>0</th>\n",
       "      <td>2.040579e+11</td>\n",
       "      <td>degree</td>\n",
       "      <td>PhD in Business and Management</td>\n",
       "      <td>NaT</td>\n",
       "    </tr>\n",
       "    <tr>\n",
       "      <th>1</th>\n",
       "      <td>2.079980e+11</td>\n",
       "      <td>headline</td>\n",
       "      <td>Guest Lecturer</td>\n",
       "      <td>NaT</td>\n",
       "    </tr>\n",
       "    <tr>\n",
       "      <th>3</th>\n",
       "      <td>3.257237e+11</td>\n",
       "      <td>school</td>\n",
       "      <td>University of Leicester</td>\n",
       "      <td>NaT</td>\n",
       "    </tr>\n",
       "    <tr>\n",
       "      <th>4</th>\n",
       "      <td>2.725346e+11</td>\n",
       "      <td>degree</td>\n",
       "      <td>BSc (Hons) - Chemistry</td>\n",
       "      <td>NaT</td>\n",
       "    </tr>\n",
       "    <tr>\n",
       "      <th>5</th>\n",
       "      <td>4.293641e+11</td>\n",
       "      <td>headline</td>\n",
       "      <td>Personal Assistant - Dr Douglas Mills</td>\n",
       "      <td>NaT</td>\n",
       "    </tr>\n",
       "  </tbody>\n",
       "</table>\n",
       "</div>"
      ],
      "text/plain": [
       "        user_id      name                             value_char  \\\n",
       "0  2.040579e+11    degree         PhD in Business and Management   \n",
       "1  2.079980e+11  headline                         Guest Lecturer   \n",
       "3  3.257237e+11    school                University of Leicester   \n",
       "4  2.725346e+11    degree                 BSc (Hons) - Chemistry   \n",
       "5  4.293641e+11  headline  Personal Assistant - Dr Douglas Mills   \n",
       "\n",
       "  value_timestamp  \n",
       "0             NaT  \n",
       "1             NaT  \n",
       "3             NaT  \n",
       "4             NaT  \n",
       "5             NaT  "
      ]
     },
     "execution_count": 7,
     "metadata": {},
     "output_type": "execute_result"
    }
   ],
   "source": [
    "# include specific CV attributes\n",
    "\n",
    "data = data[data['name'].isin(['locale','name','summary','headline',\n",
    "                                     'degree','school',\n",
    "                                     'company',  'title',  'work_location',  \n",
    "                                     'description',\n",
    "                                     'award',\n",
    "                                     'publication', \n",
    "                                     'additional_info', \n",
    "                                     'skill'])]\n",
    "data.head()"
   ]
  },
  {
   "cell_type": "code",
   "execution_count": 13,
   "metadata": {
    "collapsed": true
   },
   "outputs": [],
   "source": [
    "# ## tokenization parameters\n",
    "\n",
    "# stopWords = stopwords.words('english')\n",
    "# tokenizer_prefs = {\n",
    "#     'tokenizer' : nltk.tokenize.PunktSentenceTokenizer(),\n",
    "# #     'token_format' : 'stem',\n",
    "#     'spell_correct' : False,\n",
    "#     'np_extract': None,\n",
    "#     'pos_tagger': None,\n",
    "#     'analyzer': None,\n",
    "#     'classifier': None, \n",
    "#     'clean_html': False\n",
    "# }"
   ]
  },
  {
   "cell_type": "code",
   "execution_count": 11,
   "metadata": {
    "collapsed": false
   },
   "outputs": [],
   "source": [
    "def clean_data(data):\n",
    "    '''\n",
    "    Cleans text data by:\n",
    "    1.  force lowercase\n",
    "    2.  remove non-ascii chars\n",
    "    3.  standardize whitespace\n",
    "    4.  remove digits\n",
    "    5.  remove control characters\n",
    "    6.  remove URL patterns\n",
    "    '''\n",
    "    df = pd.DataFrame(data)\n",
    "    \n",
    "    # remove non-ascii chars\n",
    "    try:\n",
    "        df['value_char'] = data['value_char'].dropna().map(lambda x: \"\".join(i for i in x.strip() if ord(i)<128))\n",
    "    except UnicodeDecodeError:\n",
    "        print(UnicodeDecodeError)\n",
    "        df['value_char'] = data['value_char'].dropna().map(lambda x: x.strip())\n",
    "\n",
    "\n",
    "    url_pattern = \"((http|ftp|https):\\/\\/)?[\\w\\-_]+(\\.[\\w\\-_]+)+([\\w\\-\\.,@?^=%&amp;:/~\\+#]*[\\w\\-\\@?^=%&amp;/~\\+#])?\"\n",
    "\n",
    "    re_URL = re.compile(url_pattern)\n",
    "#     re_TAG = re.compile(\"(<[phl]>)\", re.IGNORECASE)\n",
    "    re_WS = re.compile(\"/[^\\S\\n]/\")\n",
    "#     re_DIGIT = re.compile(\"\\d\")\n",
    "    re_CTRL = re.compile(\"[\\x00-\\x11\\x03-\\x1F]+\")\n",
    "    re_HI = re.compile(\"[\\x80-\\xFF]+\")\n",
    "    re_NWC = re.compile(\"[!;<>?{}\\/~`#=@#$%^&*()_+]\")\n",
    "    \n",
    "    df['value_char'] = df['value_char'].map(lambda x: re_HI.sub(' ', x) if type(x) == str else None)\n",
    "    df['value_char'] = df['value_char'].map(lambda x: re_CTRL.sub(' ', x) if type(x) == str else None)\n",
    "    df['value_char'] = df['value_char'].map(lambda x: re_URL.sub(' ', x) if type(x) == str else None)\n",
    "#     data[prefix] = data[prefix].map(lambda x: re_DIGIT.sub(' ', x))\n",
    "    df['value_char'] = df['value_char'].map(lambda x: re_WS.sub(' ', x) if type(x) == str else None)        \n",
    "    df['value_char'] = df['value_char'].map(lambda x: re_NWC.sub(' ', x) if type(x) == str else None)\n",
    "    \n",
    "\n",
    "#     # create a blon using TextBlob\n",
    "#     tokenizer = kwargs['tokenizer']\n",
    "#     pos_tagger = kwargs['pos_tagger']\n",
    "#     analyzer = kwargs['analyzer']\n",
    "#     classifier = kwargs['classifier']\n",
    "#     np_extract = kwargs['np_extract']\n",
    "    \n",
    "#     df['value_char'] = df['value_char'].map(lambda l: TextBlob(l,\n",
    "#                                           tokenizer=tokenizer,\n",
    "#                                            np_extractor=np_extract,\n",
    "#                                            pos_tagger=pos_tagger,\n",
    "#                                            analyzer=analyzer) if l is not None else None)\n",
    "\n",
    "#     df_sentences = pd.DataFrame(df)\n",
    "#     # tokenize the document into sentences from blob object\n",
    "#     df_sentences['value_char'] = df['value_char'].map(lambda s: s.sentences if s is not None else None)\n",
    "    \n",
    "#     df_words = pd.DataFrame(df_sentences)\n",
    "#     # tokenize each sentence into words\n",
    "# #     df_words = df_sentences['value_char'].map(lambda l: map(lambda w: w.strip().words if w is not None and len(w)>1 else None, l))\n",
    "#     df_words['value_char'] = df_sentences['value_char'].dropna().map(lambda l: (w.strip().words for w in l if w is not None and len(w)>1))\n",
    "    \n",
    "    \n",
    "    return df"
   ]
  },
  {
   "cell_type": "code",
   "execution_count": 12,
   "metadata": {
    "collapsed": false
   },
   "outputs": [],
   "source": [
    "data_clean = clean_data(data)"
   ]
  },
  {
   "cell_type": "code",
   "execution_count": 14,
   "metadata": {
    "collapsed": false
   },
   "outputs": [
    {
     "data": {
      "text/plain": [
       "[[100455018610.0,\n",
       "  '  Determined self-motivator, highly organised and reliable.  Experienced and innovative in various accounting procedures.  High personal integrity, and able to relate to and create trust in all.  Highly articulate and confident  able to motivate and communicate to achieve exceptional business performances.  Persistent and flexible approach to the mutually beneficial achievement of company business plans.  Friendly, approachable.'],\n",
       " [100508885550.0,\n",
       "  \"I am a Master's student studying Zoology at the University of Manchester. Prior to university I was under full time employment for AP Moller Maersk - a multi-national shipping company. Here I gained a plethora of experience in negotiating and organizational skills, systems and business development, a firm sense of responsibility and capacity to work hard under pressure. I have been tutoring students in GCSE and A level biology for almost 12 months which has given me a firm grasp on lesson planning and effective communication.\"]]"
      ]
     },
     "execution_count": 14,
     "metadata": {},
     "output_type": "execute_result"
    }
   ],
   "source": [
    "## generate a list of cv summaries with the respective user_ids from the dataframe\n",
    "\n",
    "heads = []\n",
    "indicies = []\n",
    "\n",
    "for i, row in data.iterrows():\n",
    "    if row[1] == 'summary':\n",
    "        heads.append([row[0], row[2]])\n",
    "        indicies.append(row[0])\n",
    "\n",
    "heads.sort(key=lambda x: x[0])\n",
    "heads[:2]"
   ]
  },
  {
   "cell_type": "code",
   "execution_count": 15,
   "metadata": {
    "collapsed": false
   },
   "outputs": [
    {
     "data": {
      "text/plain": [
       "[[100455018610,\n",
       "  \"name: Finance Analyst, locale: Kirkby, headline: Finance Analyst - CPI Card Group - UK Ltd, degree: BA en Business Information Systems and Combined Studies, school: Liverpool John Moore's University\"],\n",
       " [100508885550,\n",
       "  'locale: Manchester, name: Personal Science Tutor GCSE, degree: MSci di Zoology, school: The University of Manchester, headline: Presonal Science Tutor GCSE - TutorFuture']]"
      ]
     },
     "execution_count": 15,
     "metadata": {},
     "output_type": "execute_result"
    }
   ],
   "source": [
    "## interate through the dataframe and create a list of cv attributes of each cv with the respective user_ids\n",
    "\n",
    "from itertools import groupby\n",
    "\n",
    "cv_attributes = []\n",
    "\n",
    "for i, row in data.iterrows():\n",
    "    if row[0] in indicies and row[1] != 'summary' and row[2] is not None:\n",
    "        cv_attributes.append([int(row[0]), row[1] + ': ' + row[2]])\n",
    "        \n",
    "cv_attributes.sort(key=lambda x: x[0])\n",
    "        \n",
    "description = [[user_id, [cv_field[1] for cv_field in cv_fields\n",
    "                         ]] for user_id, cv_fields in groupby(cv_attributes, \n",
    "                                                              lambda x: x[0])]\n",
    "# description= [user_id for user_id, cv_fields in groupby(cv_attributes, lambda x: int(x[0]))]\n",
    "desc = [[p[0], ', '.join(p[1][0:])] for p in description]\n",
    "# desc.sort(key=lambda x: x[0])\n",
    "# desc[:5]\n",
    "desc.sort()\n",
    "desc[:2]"
   ]
  },
  {
   "cell_type": "code",
   "execution_count": 18,
   "metadata": {
    "collapsed": false
   },
   "outputs": [],
   "source": [
    "user_ids = []\n",
    "for i in desc:\n",
    "    user_ids.append(i[0])\n",
    "\n",
    "## can use the list indicies insted!\n",
    "user_ids.sort()\n",
    "\n",
    "desc_data = []\n",
    "heads_data = []\n",
    "\n",
    "for i, u_id in enumerate(user_ids):\n",
    "    if desc[i][0] == u_id and heads[i][0] == u_id:\n",
    "        desc_data.append(desc[i][1])\n",
    "        heads_data.append(heads[i][1])"
   ]
  },
  {
   "cell_type": "markdown",
   "metadata": {},
   "source": [
    "Generate intial word embedding for headlines and description"
   ]
  },
  {
   "cell_type": "markdown",
   "metadata": {},
   "source": [
    "The embedding is limited to a fixed vocabulary size (`vocab_size`) but\n",
    "a vocabulary of all the words that appeared in the data is built."
   ]
  },
  {
   "cell_type": "code",
   "execution_count": 25,
   "metadata": {
    "collapsed": true
   },
   "outputs": [],
   "source": [
    "FN = 'vocabulary-embedding'"
   ]
  },
  {
   "cell_type": "code",
   "execution_count": 26,
   "metadata": {
    "collapsed": true
   },
   "outputs": [],
   "source": [
    "seed = 42"
   ]
  },
  {
   "cell_type": "code",
   "execution_count": 27,
   "metadata": {
    "collapsed": true
   },
   "outputs": [],
   "source": [
    "vocab_size = 40000"
   ]
  },
  {
   "cell_type": "code",
   "execution_count": 28,
   "metadata": {
    "collapsed": true
   },
   "outputs": [],
   "source": [
    "embedding_dim = 100"
   ]
  },
  {
   "cell_type": "code",
   "execution_count": 29,
   "metadata": {
    "collapsed": true
   },
   "outputs": [],
   "source": [
    "lower = False # dont lower case the text"
   ]
  },
  {
   "cell_type": "markdown",
   "metadata": {},
   "source": [
    "# read tokenized headlines and descriptions"
   ]
  },
  {
   "cell_type": "code",
   "execution_count": 18,
   "metadata": {
    "collapsed": true
   },
   "outputs": [],
   "source": [
    "# import cPickle as pickle\n",
    "# FN0 = 'tokens' # this is the name of the data file which I assume you already have\n",
    "# with open('data/%s.pkl'%FN0, 'rb') as fp:\n",
    "#     heads, desc, keywords = pickle.load(fp) # keywords are not used in this project"
   ]
  },
  {
   "cell_type": "code",
   "execution_count": 30,
   "metadata": {
    "collapsed": true
   },
   "outputs": [],
   "source": [
    "if lower:\n",
    "    heads_data = [h.lower() for h in heads_data]"
   ]
  },
  {
   "cell_type": "code",
   "execution_count": 31,
   "metadata": {
    "collapsed": true
   },
   "outputs": [],
   "source": [
    "if lower:\n",
    "    desc_data = [h.lower() for h in desc_data]"
   ]
  },
  {
   "cell_type": "code",
   "execution_count": 32,
   "metadata": {
    "collapsed": false
   },
   "outputs": [
    {
     "data": {
      "text/plain": [
       "'  Determined self-motivator, highly organised and reliable.  Experienced and innovative in various accounting procedures.  High personal integrity, and able to relate to and create trust in all.  Highly articulate and confident  able to motivate and communicate to achieve exceptional business performances.  Persistent and flexible approach to the mutually beneficial achievement of company business plans.  Friendly, approachable.'"
      ]
     },
     "execution_count": 32,
     "metadata": {},
     "output_type": "execute_result"
    }
   ],
   "source": [
    "i=0\n",
    "heads_data[i]"
   ]
  },
  {
   "cell_type": "code",
   "execution_count": 33,
   "metadata": {
    "collapsed": false
   },
   "outputs": [
    {
     "data": {
      "text/plain": [
       "\"name: Finance Analyst, locale: Kirkby, headline: Finance Analyst - CPI Card Group - UK Ltd, degree: BA en Business Information Systems and Combined Studies, school: Liverpool John Moore's University\""
      ]
     },
     "execution_count": 33,
     "metadata": {},
     "output_type": "execute_result"
    }
   ],
   "source": [
    "desc_data[i]"
   ]
  },
  {
   "cell_type": "code",
   "execution_count": 23,
   "metadata": {
    "collapsed": false
   },
   "outputs": [],
   "source": [
    "# keywords[i]"
   ]
  },
  {
   "cell_type": "code",
   "execution_count": 34,
   "metadata": {
    "collapsed": false
   },
   "outputs": [
    {
     "data": {
      "text/plain": [
       "(2273, 2263)"
      ]
     },
     "execution_count": 34,
     "metadata": {},
     "output_type": "execute_result"
    }
   ],
   "source": [
    "len(heads_data),len(set(heads_data))"
   ]
  },
  {
   "cell_type": "code",
   "execution_count": 35,
   "metadata": {
    "collapsed": false
   },
   "outputs": [
    {
     "data": {
      "text/plain": [
       "(2273, 2273)"
      ]
     },
     "execution_count": 35,
     "metadata": {},
     "output_type": "execute_result"
    }
   ],
   "source": [
    "len(desc_data),len(set(desc_data))"
   ]
  },
  {
   "cell_type": "markdown",
   "metadata": {},
   "source": [
    "# build vocabulary"
   ]
  },
  {
   "cell_type": "code",
   "execution_count": 37,
   "metadata": {
    "collapsed": true
   },
   "outputs": [],
   "source": [
    "from collections import Counter\n",
    "from itertools import chain\n",
    "def get_vocab(lst):\n",
    "    vocabcount = Counter(w for txt in lst for w in txt.split())\n",
    "    vocab = list(map(lambda x: x[0], sorted(vocabcount.items(), key=lambda x: -x[1])))\n",
    "    return vocab, vocabcount"
   ]
  },
  {
   "cell_type": "code",
   "execution_count": 42,
   "metadata": {
    "collapsed": false
   },
   "outputs": [],
   "source": [
    "vocab, vocabcount = get_vocab(heads_data+desc_data)"
   ]
  },
  {
   "cell_type": "markdown",
   "metadata": {
    "collapsed": true
   },
   "source": [
    "most popular tokens"
   ]
  },
  {
   "cell_type": "code",
   "execution_count": 47,
   "metadata": {
    "collapsed": false
   },
   "outputs": [
    {
     "name": "stdout",
     "output_type": "stream",
     "text": [
      "['and', 'the', 'of', 'to', 'in', 'for', 'with', 'a', 'skill:', 'data', 'on', 'as', ',', 'business', 'I', 'Data', 'description:', '-', 'company:', 'work_location:', 'using', 'title:', 'Business', 'from', 'degree:', 'school:', 'team', 'project', 'MS', 'test', 'by', 'experience', 'all', 'requirements', 'that', 'name:', 'new', 'Test', 'testing', 'analysis', 'locale:', 'SQL', 'Analyst,', '.', 'management', 'is', 'University', 'at', 'system', 'an']\n",
      "... 76253\n"
     ]
    }
   ],
   "source": [
    "print(vocab[:50])\n",
    "print('...',len(vocab))"
   ]
  },
  {
   "cell_type": "code",
   "execution_count": 48,
   "metadata": {
    "collapsed": false
   },
   "outputs": [
    {
     "data": {
      "image/png": "[encoded data removed]",
      "text/plain": [
       "<matplotlib.figure.Figure at 0x7fdb2f3a2ba8>"
      ]
     },
     "metadata": {},
     "output_type": "display_data"
    }
   ],
   "source": [
    "import seaborn as sns\n",
    "import matplotlib.pyplot as plt\n",
    "%matplotlib inline\n",
    "plt.plot([vocabcount[w] for w in vocab]);\n",
    "plt.gca().set_xscale(\"log\", nonposx='clip')\n",
    "plt.gca().set_yscale(\"log\", nonposy='clip')\n",
    "plt.title('word distribution in headlines and discription')\n",
    "plt.xlabel('rank')\n",
    "plt.ylabel('total appearances');"
   ]
  },
  {
   "cell_type": "markdown",
   "metadata": {},
   "source": [
    "always nice to see [Zipf's law](https://en.wikipedia.org/wiki/Zipf%27s_law)"
   ]
  },
  {
   "cell_type": "markdown",
   "metadata": {},
   "source": [
    "# Index words"
   ]
  },
  {
   "cell_type": "code",
   "execution_count": 49,
   "metadata": {
    "collapsed": true
   },
   "outputs": [],
   "source": [
    "empty = 0 # RNN mask of no data\n",
    "eos = 1  # end of sentence\n",
    "start_idx = eos+1 # first real word"
   ]
  },
  {
   "cell_type": "code",
   "execution_count": 50,
   "metadata": {
    "collapsed": true
   },
   "outputs": [],
   "source": [
    "def get_idx(vocab, vocabcount):\n",
    "    word2idx = dict((word, idx+start_idx) for idx,word in enumerate(vocab))\n",
    "    word2idx['<empty>'] = empty\n",
    "    word2idx['<eos>'] = eos\n",
    "    \n",
    "    idx2word = dict((idx,word) for word,idx in word2idx.items())\n",
    "\n",
    "    return word2idx, idx2word"
   ]
  },
  {
   "cell_type": "code",
   "execution_count": 51,
   "metadata": {
    "collapsed": false
   },
   "outputs": [],
   "source": [
    "word2idx, idx2word = get_idx(vocab, vocabcount)"
   ]
  },
  {
   "cell_type": "markdown",
   "metadata": {},
   "source": [
    "# Word Embedding"
   ]
  },
  {
   "cell_type": "markdown",
   "metadata": {},
   "source": [
    "## read GloVe"
   ]
  },
  {
   "cell_type": "code",
   "execution_count": 52,
   "metadata": {
    "collapsed": false
   },
   "outputs": [],
   "source": [
    "from keras.utils.data_utils import get_file\n",
    "fname = 'glove.6B.%dd.txt'%embedding_dim\n",
    "import os\n",
    "datadir_base = os.path.expanduser(os.path.join('~', '.keras'))\n",
    "if not os.access(datadir_base, os.W_OK):\n",
    "    datadir_base = os.path.join('/tmp', '.keras')\n",
    "datadir = os.path.join(datadir_base, 'datasets')\n",
    "glove_name = os.path.join(datadir, fname)\n",
    "if not os.path.exists(glove_name):\n",
    "    path = 'glove.6B'\n",
    "    path = get_file(path, origin=\"http://nlp.stanford.edu/data/glove.6B.zip\")\n",
    "    !unzip {datadir}/{path}"
   ]
  },
  {
   "cell_type": "code",
   "execution_count": 53,
   "metadata": {
    "collapsed": false
   },
   "outputs": [
    {
     "data": {
      "text/plain": [
       "'/home/ubuntu/.keras/datasets/glove.6B.100d.txt'"
      ]
     },
     "execution_count": 53,
     "metadata": {},
     "output_type": "execute_result"
    }
   ],
   "source": [
    "glove_name"
   ]
  },
  {
   "cell_type": "code",
   "execution_count": 54,
   "metadata": {
    "collapsed": false
   },
   "outputs": [
    {
     "data": {
      "text/plain": [
       "'400000'"
      ]
     },
     "execution_count": 54,
     "metadata": {},
     "output_type": "execute_result"
    }
   ],
   "source": [
    "glove_n_symbols = !wc -l {glove_name}\n",
    "glove_n_symbols = (glove_n_symbols[0].split()[0])\n",
    "glove_n_symbols"
   ]
  },
  {
   "cell_type": "code",
   "execution_count": 55,
   "metadata": {
    "collapsed": false
   },
   "outputs": [],
   "source": [
    "glove_index_dict = {}\n",
    "glove_embedding_weights = np.empty((int(glove_n_symbols), embedding_dim))\n",
    "globale_scale=.1\n",
    "with open(glove_name, 'r') as fp:\n",
    "    i = 0\n",
    "    for l in fp:\n",
    "        l = l.strip().split()\n",
    "        w = l[0]\n",
    "        glove_index_dict[w] = i\n",
    "        glove_embedding_weights[i,:] = list(map(float,l[1:]))\n",
    "        i += 1\n",
    "glove_embedding_weights *= globale_scale"
   ]
  },
  {
   "cell_type": "code",
   "execution_count": 56,
   "metadata": {
    "collapsed": false
   },
   "outputs": [
    {
     "data": {
      "text/plain": [
       "0.040815727600190289"
      ]
     },
     "execution_count": 56,
     "metadata": {},
     "output_type": "execute_result"
    }
   ],
   "source": [
    "glove_embedding_weights.std()"
   ]
  },
  {
   "cell_type": "code",
   "execution_count": 57,
   "metadata": {
    "collapsed": false
   },
   "outputs": [],
   "source": [
    "for w,i in glove_index_dict.items():\n",
    "    w = w.lower()\n",
    "    if w not in glove_index_dict:\n",
    "        glove_index_dict[w] = i"
   ]
  },
  {
   "cell_type": "markdown",
   "metadata": {},
   "source": [
    "## embedding matrix"
   ]
  },
  {
   "cell_type": "markdown",
   "metadata": {},
   "source": [
    "use GloVe to initialize embedding matrix"
   ]
  },
  {
   "cell_type": "code",
   "execution_count": 58,
   "metadata": {
    "collapsed": false
   },
   "outputs": [
    {
     "name": "stdout",
     "output_type": "stream",
     "text": [
      "random-embedding/glove scale 0.0706949139514 std 0.0408138249575\n",
      "number of tokens, in small vocab, found in glove and copied to embedding 21782 0.54455\n"
     ]
    }
   ],
   "source": [
    "# generate random embedding with same scale as glove\n",
    "np.random.seed(seed)\n",
    "shape = (vocab_size, embedding_dim)\n",
    "scale = glove_embedding_weights.std()*np.sqrt(12)/2 # uniform and not normal\n",
    "embedding = np.random.uniform(low=-scale, high=scale, size=shape)\n",
    "print('random-embedding/glove scale', scale, 'std', embedding.std())\n",
    "\n",
    "# copy from glove weights of words that appear in our short vocabulary (idx2word)\n",
    "c = 0\n",
    "for i in range(vocab_size):\n",
    "    w = idx2word[i]\n",
    "    g = glove_index_dict.get(w, glove_index_dict.get(w.lower()))\n",
    "    if g is None and w.startswith('#'): # glove has no hastags (I think...)\n",
    "        w = w[1:]\n",
    "        g = glove_index_dict.get(w, glove_index_dict.get(w.lower()))\n",
    "    if g is not None:\n",
    "        embedding[i,:] = glove_embedding_weights[g,:]\n",
    "        c+=1\n",
    "print('number of tokens, in small vocab, found in glove and copied to embedding', c,c/float(vocab_size))"
   ]
  },
  {
   "cell_type": "markdown",
   "metadata": {},
   "source": [
    "lots of word in the full vocabulary (word2idx) are outside `vocab_size`.\n",
    "Build an alterantive which will map them to their closest match in glove but only if the match\n",
    "is good enough (cos distance above `glove_thr`)"
   ]
  },
  {
   "cell_type": "code",
   "execution_count": 59,
   "metadata": {
    "collapsed": true
   },
   "outputs": [],
   "source": [
    "glove_thr = 0.5"
   ]
  },
  {
   "cell_type": "code",
   "execution_count": 60,
   "metadata": {
    "collapsed": true
   },
   "outputs": [],
   "source": [
    "word2glove = {}\n",
    "for w in word2idx:\n",
    "    if w in glove_index_dict:\n",
    "        g = w\n",
    "    elif w.lower() in glove_index_dict:\n",
    "        g = w.lower()\n",
    "    elif w.startswith('#') and w[1:] in glove_index_dict:\n",
    "        g = w[1:]\n",
    "    elif w.startswith('#') and w[1:].lower() in glove_index_dict:\n",
    "        g = w[1:].lower()\n",
    "    else:\n",
    "        continue\n",
    "    word2glove[w] = g"
   ]
  },
  {
   "cell_type": "markdown",
   "metadata": {},
   "source": [
    "for every word outside the embedding matrix find the closest word inside the mebedding matrix.\n",
    "Use cos distance of GloVe vectors.\n",
    "\n",
    "Allow for the last `nb_unknown_words` words inside the embedding matrix to be considered to be outside.\n",
    "Dont accept distances below `glove_thr`"
   ]
  },
  {
   "cell_type": "code",
   "execution_count": 61,
   "metadata": {
    "collapsed": false
   },
   "outputs": [
    {
     "name": "stdout",
     "output_type": "stream",
     "text": [
      "# of glove substitutes found 8210\n"
     ]
    }
   ],
   "source": [
    "normed_embedding = embedding/np.array([np.sqrt(np.dot(gweight,gweight)) for gweight in embedding])[:,None]\n",
    "\n",
    "nb_unknown_words = 100\n",
    "\n",
    "glove_match = []\n",
    "for w,idx in word2idx.items():\n",
    "    if idx >= vocab_size-nb_unknown_words and w.isalpha() and w in word2glove:\n",
    "        gidx = glove_index_dict[word2glove[w]]\n",
    "        gweight = glove_embedding_weights[gidx,:].copy()\n",
    "        # find row in embedding that has the highest cos score with gweight\n",
    "        gweight /= np.sqrt(np.dot(gweight,gweight))\n",
    "        score = np.dot(normed_embedding[:vocab_size-nb_unknown_words], gweight)\n",
    "        while True:\n",
    "            embedding_idx = score.argmax()\n",
    "            s = score[embedding_idx]\n",
    "            if s < glove_thr:\n",
    "                break\n",
    "            if idx2word[embedding_idx] in word2glove :\n",
    "                glove_match.append((w, embedding_idx, s)) \n",
    "                break\n",
    "            score[embedding_idx] = -1\n",
    "glove_match.sort(key = lambda x: -x[2])\n",
    "print('# of glove substitutes found', len(glove_match))"
   ]
  },
  {
   "cell_type": "markdown",
   "metadata": {},
   "source": [
    "manually check that the worst substitutions we are going to do are good enough"
   ]
  },
  {
   "cell_type": "code",
   "execution_count": 62,
   "metadata": {
    "collapsed": false
   },
   "outputs": [
    {
     "name": "stdout",
     "output_type": "stream",
     "text": [
      "0.500630371206 pensioner => demonstrator\n",
      "0.500554290739 Picard => NOE\n",
      "0.500522017877 toolbox => Toolkit\n",
      "0.500447526042 Vaishnava => Hindu\n",
      "0.500377503516 Marx => Kafka\n",
      "0.500368461173 hummus => bread\n",
      "0.500305859542 registrant => assignee\n",
      "0.500160348413 Qubit => exciton\n",
      "0.500134501857 Helpline => ISP\n",
      "0.500085234816 Enoch => Burroughs\n"
     ]
    }
   ],
   "source": [
    "for orig, sub, score in glove_match[-10:]:\n",
    "    print(score, orig,'=>', idx2word[sub])"
   ]
  },
  {
   "cell_type": "markdown",
   "metadata": {},
   "source": [
    "build a lookup table of index of outside words to index of inside words"
   ]
  },
  {
   "cell_type": "code",
   "execution_count": 63,
   "metadata": {
    "collapsed": true
   },
   "outputs": [],
   "source": [
    "glove_idx2idx = dict((word2idx[w],embedding_idx) for  w, embedding_idx, _ in glove_match)"
   ]
  },
  {
   "cell_type": "markdown",
   "metadata": {},
   "source": [
    "# Data"
   ]
  },
  {
   "cell_type": "code",
   "execution_count": 64,
   "metadata": {
    "collapsed": false
   },
   "outputs": [
    {
     "data": {
      "text/plain": [
       "2273"
      ]
     },
     "execution_count": 64,
     "metadata": {},
     "output_type": "execute_result"
    }
   ],
   "source": [
    "Y = [[word2idx[token] for token in headline.split()] for headline in heads_data]\n",
    "len(Y)"
   ]
  },
  {
   "cell_type": "code",
   "execution_count": 65,
   "metadata": {
    "collapsed": false
   },
   "outputs": [
    {
     "data": {
      "image/png": "[encoded data removed]",
      "text/plain": [
       "<matplotlib.figure.Figure at 0x7fdb154d7cf8>"
      ]
     },
     "metadata": {},
     "output_type": "display_data"
    }
   ],
   "source": [
    "plt.hist(list(map(len,Y)),bins=50);"
   ]
  },
  {
   "cell_type": "code",
   "execution_count": 66,
   "metadata": {
    "collapsed": false
   },
   "outputs": [
    {
     "data": {
      "text/plain": [
       "2273"
      ]
     },
     "execution_count": 66,
     "metadata": {},
     "output_type": "execute_result"
    }
   ],
   "source": [
    "X = [[word2idx[token] for token in d.split()] for d in desc_data]\n",
    "len(X)"
   ]
  },
  {
   "cell_type": "code",
   "execution_count": 67,
   "metadata": {
    "collapsed": false,
    "scrolled": true
   },
   "outputs": [
    {
     "data": {
      "image/png": "[encoded data removed]",
      "text/plain": [
       "<matplotlib.figure.Figure at 0x7fdb154d7c50>"
      ]
     },
     "metadata": {},
     "output_type": "display_data"
    }
   ],
   "source": [
    "plt.hist(list(map(len,X)),bins=50);"
   ]
  },
  {
   "cell_type": "code",
   "execution_count": 68,
   "metadata": {
    "collapsed": false
   },
   "outputs": [],
   "source": [
    "import pickle\n",
    "with open('data/%s.pkl'%FN,'wb') as fp:\n",
    "    pickle.dump((embedding, idx2word, word2idx, glove_idx2idx),fp,-1)"
   ]
  },
  {
   "cell_type": "code",
   "execution_count": 69,
   "metadata": {
    "collapsed": false
   },
   "outputs": [],
   "source": [
    "# import pickle\n",
    "with open('data/%s.data.pkl'%FN,'wb') as fp:\n",
    "    pickle.dump((X,Y),fp,-1)"
   ]
  }
 ],
 "metadata": {
  "kernelspec": {
   "display_name": "Python 3",
   "language": "python",
   "name": "python3"
  },
  "language_info": {
   "codemirror_mode": {
    "name": "ipython",
    "version": 3
   },
   "file_extension": ".py",
   "mimetype": "text/x-python",
   "name": "python",
   "nbconvert_exporter": "python",
   "pygments_lexer": "ipython3",
   "version": "3.5.2"
  }
 },
 "nbformat": 4,
 "nbformat_minor": 0
}
