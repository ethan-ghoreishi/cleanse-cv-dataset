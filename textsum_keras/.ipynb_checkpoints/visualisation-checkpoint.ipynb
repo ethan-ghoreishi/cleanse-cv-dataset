{
 "cells": [
  {
   "cell_type": "code",
   "execution_count": 1,
   "metadata": {
    "collapsed": true
   },
   "outputs": [],
   "source": [
    "import pylab as pl\n",
    " \n",
    "import numpy as np\n",
    " \n",
    "import matplotlib.pyplot as plt\n",
    "import seaborn as sns"
   ]
  },
  {
   "cell_type": "code",
   "execution_count": 46,
   "metadata": {
    "collapsed": false
   },
   "outputs": [],
   "source": [
    "class Radar(object):\n",
    "\tdef __init__(self, fig, titles, labels, heard = None, rotation=0, rect=None):\n",
    " \n",
    "\t\tif rect is None:\n",
    "\t\t\trect = [0.05,0.05,0.88,0.88]\n",
    " \n",
    "\t\tself.n = len(titles)\n",
    "\t\tself.angles = np.arange(0, 360, 360.0/self.n)\n",
    " \n",
    "\t\tself.axes = [fig.add_axes(rect, projection=\"polar\", label=\"axes%d\" % i) for i in range(self.n)]\n",
    " \n",
    "\t\tself.ax = self.axes[0]\n",
    "\t\tself.ax.set_thetagrids(self.angles, labels=titles, fontsize=14, fontweight='bold')\n",
    " \n",
    " \n",
    "\t\tfor ax in self.axes[1:]:\n",
    "\t\t\tax.patch.set_visible(False)\n",
    "\t\t\tax.grid(\"off\")\n",
    "\t\t\tax.xaxis.set_visible(False)\n",
    " \n",
    "\t\tfor ax, angle, label in zip(self.axes, self.angles, labels):\n",
    "\t\t\tax.set_rgrids(range(1, 6), angle=angle, labels=label)\n",
    "\t\t\tax.spines[\"polar\"].set_visible(False)\n",
    "\t\t\tax.set_ylim(0, 5)\n",
    "\t\t\tax.set_theta_offset(np.deg2rad(90))\n",
    " \n",
    "\tdef plot(self, values, *args, **kw):\n",
    "\t\tangle = np.deg2rad(np.r_[self.angles, self.angles[0]])\n",
    "\t\tvalues = np.r_[values, values[0]]\n",
    "\t\tself.ax.plot(angle, values, *args, **kw)\n",
    " \n",
    "\tdef fill(self, values, colores):\n",
    "\t\tangle = np.deg2rad(np.r_[self.angles, self.angles[0]])\n",
    "\t\tvalues = np.r_[values, values[0]]\n",
    "\t\tself.ax.fill_between(angle, values, alpha=\"0.4\", color=colores)\n",
    " \n",
    "\t#def fill(self, *args, **kwargs):\n",
    "\t#\tclosed = kwargs.pop('closed', True)\n",
    "\t#\treturn super(Radar, self).fill(closed=closed, *args, **kwargs)\n"
   ]
  },
  {
   "cell_type": "code",
   "execution_count": 50,
   "metadata": {
    "collapsed": false
   },
   "outputs": [
    {
     "ename": "SyntaxError",
     "evalue": "invalid syntax (<ipython-input-50-1757526286bf>, line 2)",
     "output_type": "error",
     "traceback": [
      "\u001b[0;36m  File \u001b[0;32m\"<ipython-input-50-1757526286bf>\"\u001b[0;36m, line \u001b[0;32m2\u001b[0m\n\u001b[0;31m    fig.suptitle(\"Hard Skills\", fontsize=16, fontweight='bold',  verticalalignment : 'top')\u001b[0m\n\u001b[0m                                                                                   ^\u001b[0m\n\u001b[0;31mSyntaxError\u001b[0m\u001b[0;31m:\u001b[0m invalid syntax\n"
     ]
    }
   ],
   "source": [
    "fig = pl.figure(figsize=(6,6))\n",
    "fig.suptitle(\"Hard Skills\", fontsize=16, fontweight='bold')\n",
    "titles = [\"Hard skills\",\"Soft skills\",\"Experience\",\"Education\",\"Turnover (years)\",\"Hadoop\"]\n",
    " \n",
    "labels = [\n",
    "    list(\"\"), list(\"\"), list(\"\"), list(\"\"), list(\"12345\"), list(\"\")\n",
    "]\n",
    "radar_stat = Radar(fig, titles, labels)\n",
    "radar_stat.plot([2, 5, 5, 5, 3, 3],  \"-\", lw=2, color=\"blue\", alpha=0.4, label=\"Ideal Candidate Skillchart\")\n",
    "radar_stat.fill([2, 5, 5, 5, 3, 3], colores=\"blue\")\n",
    "radar_stat.plot([3, 2, 3, 1, 3, 2],  \"-\", lw=2, color=\"red\", alpha=0.4, label=\"Felder Skillchart\")\n",
    "radar_stat.fill([3, 2, 3, 1, 3, 2], colores=\"red\")\n",
    "#radar_stat.plot.set_f\n",
    "radar_stat.ax.legend()\n",
    " \n",
    "pl.show()"
   ]
  },
  {
   "cell_type": "code",
   "execution_count": null,
   "metadata": {
    "collapsed": true
   },
   "outputs": [],
   "source": []
  },
  {
   "cell_type": "code",
   "execution_count": null,
   "metadata": {
    "collapsed": true
   },
   "outputs": [],
   "source": []
  }
 ],
 "metadata": {
  "kernelspec": {
   "display_name": "Python 3",
   "language": "python",
   "name": "python3"
  },
  "language_info": {
   "codemirror_mode": {
    "name": "ipython",
    "version": 3
   },
   "file_extension": ".py",
   "mimetype": "text/x-python",
   "name": "python",
   "nbconvert_exporter": "python",
   "pygments_lexer": "ipython3",
   "version": "3.5.2"
  }
 },
 "nbformat": 4,
 "nbformat_minor": 2
}
